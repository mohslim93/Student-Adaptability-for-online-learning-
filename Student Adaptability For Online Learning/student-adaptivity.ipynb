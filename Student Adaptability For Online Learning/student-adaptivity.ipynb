{
 "cells": [
  {
   "cell_type": "markdown",
   "metadata": {
    "_cell_guid": "b1076dfc-b9ad-4769-8c92-a6c4dae69d19",
    "_uuid": "8f2839f25d086af736a60e9eeb907d3b93b6e0e5"
   },
   "source": [
    "# Import Packages"
   ]
  },
  {
   "cell_type": "code",
   "execution_count": 1,
   "metadata": {
    "execution": {
     "iopub.execute_input": "2022-07-18T20:47:18.023949Z",
     "iopub.status.busy": "2022-07-18T20:47:18.023213Z",
     "iopub.status.idle": "2022-07-18T20:47:19.422881Z",
     "shell.execute_reply": "2022-07-18T20:47:19.421549Z",
     "shell.execute_reply.started": "2022-07-18T20:47:18.023816Z"
    }
   },
   "outputs": [],
   "source": [
    "import numpy as np\n",
    "import pandas as pd\n",
    "import matplotlib.pyplot as plt\n",
    "import seaborn as sns\n",
    "from sklearn.model_selection import train_test_split, RandomizedSearchCV, KFold\n",
    "from sklearn.preprocessing import label_binarize, LabelEncoder"
   ]
  },
  {
   "cell_type": "code",
   "execution_count": 2,
   "metadata": {},
   "outputs": [],
   "source": [
    "# Improving the front size of the figures \n",
    "import pylab as plb\n",
    "plb.rcParams['font.size'] = 14"
   ]
  },
  {
   "cell_type": "code",
   "execution_count": 3,
   "metadata": {
    "execution": {
     "iopub.execute_input": "2022-07-18T20:47:19.426570Z",
     "iopub.status.busy": "2022-07-18T20:47:19.425807Z",
     "iopub.status.idle": "2022-07-18T20:47:19.461683Z",
     "shell.execute_reply": "2022-07-18T20:47:19.460742Z",
     "shell.execute_reply.started": "2022-07-18T20:47:19.426524Z"
    }
   },
   "outputs": [],
   "source": [
    "df = pd.read_csv('students_adaptability_level_online_education.csv')\n",
    "var_def = pd.read_csv('Variabel Definition - Sheet1.csv')"
   ]
  },
  {
   "cell_type": "markdown",
   "metadata": {},
   "source": [
    "# Data Exploration"
   ]
  },
  {
   "cell_type": "code",
   "execution_count": 4,
   "metadata": {
    "execution": {
     "iopub.execute_input": "2022-07-18T20:47:19.463484Z",
     "iopub.status.busy": "2022-07-18T20:47:19.462747Z",
     "iopub.status.idle": "2022-07-18T20:47:19.486353Z",
     "shell.execute_reply": "2022-07-18T20:47:19.485111Z",
     "shell.execute_reply.started": "2022-07-18T20:47:19.463452Z"
    }
   },
   "outputs": [
    {
     "data": {
      "text/html": [
       "<div>\n",
       "<style scoped>\n",
       "    .dataframe tbody tr th:only-of-type {\n",
       "        vertical-align: middle;\n",
       "    }\n",
       "\n",
       "    .dataframe tbody tr th {\n",
       "        vertical-align: top;\n",
       "    }\n",
       "\n",
       "    .dataframe thead th {\n",
       "        text-align: right;\n",
       "    }\n",
       "</style>\n",
       "<table border=\"1\" class=\"dataframe\">\n",
       "  <thead>\n",
       "    <tr style=\"text-align: right;\">\n",
       "      <th></th>\n",
       "      <th>Column</th>\n",
       "      <th>Variable Definition</th>\n",
       "    </tr>\n",
       "  </thead>\n",
       "  <tbody>\n",
       "    <tr>\n",
       "      <th>0</th>\n",
       "      <td>Gender</td>\n",
       "      <td>Gender of student</td>\n",
       "    </tr>\n",
       "    <tr>\n",
       "      <th>1</th>\n",
       "      <td>Age</td>\n",
       "      <td>Age range of student</td>\n",
       "    </tr>\n",
       "    <tr>\n",
       "      <th>2</th>\n",
       "      <td>Education Level</td>\n",
       "      <td>Education institution level</td>\n",
       "    </tr>\n",
       "    <tr>\n",
       "      <th>3</th>\n",
       "      <td>Institution Type</td>\n",
       "      <td>Education institution type</td>\n",
       "    </tr>\n",
       "    <tr>\n",
       "      <th>4</th>\n",
       "      <td>IT Student</td>\n",
       "      <td>Studying as IT student</td>\n",
       "    </tr>\n",
       "    <tr>\n",
       "      <th>5</th>\n",
       "      <td>Location</td>\n",
       "      <td>Is student location in town</td>\n",
       "    </tr>\n",
       "    <tr>\n",
       "      <th>6</th>\n",
       "      <td>Load-shedding</td>\n",
       "      <td>Level of load shedding</td>\n",
       "    </tr>\n",
       "    <tr>\n",
       "      <th>7</th>\n",
       "      <td>Financial Condition</td>\n",
       "      <td>Financial condition of family</td>\n",
       "    </tr>\n",
       "    <tr>\n",
       "      <th>8</th>\n",
       "      <td>Internet Type</td>\n",
       "      <td>Internet type used mostly in device</td>\n",
       "    </tr>\n",
       "    <tr>\n",
       "      <th>9</th>\n",
       "      <td>Network Type</td>\n",
       "      <td>Network connectivity type</td>\n",
       "    </tr>\n",
       "    <tr>\n",
       "      <th>10</th>\n",
       "      <td>Class Duration</td>\n",
       "      <td>Daily class duration</td>\n",
       "    </tr>\n",
       "    <tr>\n",
       "      <th>11</th>\n",
       "      <td>Self Lms</td>\n",
       "      <td>Institution’s own LMS availability</td>\n",
       "    </tr>\n",
       "    <tr>\n",
       "      <th>12</th>\n",
       "      <td>Device</td>\n",
       "      <td>Device used mostly in class</td>\n",
       "    </tr>\n",
       "    <tr>\n",
       "      <th>13</th>\n",
       "      <td>Adaptivity Level</td>\n",
       "      <td>Adaptability level of the student</td>\n",
       "    </tr>\n",
       "  </tbody>\n",
       "</table>\n",
       "</div>"
      ],
      "text/plain": [
       "                 Column                  Variable Definition\n",
       "0                Gender                    Gender of student\n",
       "1                   Age                 Age range of student\n",
       "2       Education Level          Education institution level\n",
       "3      Institution Type           Education institution type\n",
       "4            IT Student               Studying as IT student\n",
       "5              Location          Is student location in town\n",
       "6         Load-shedding               Level of load shedding\n",
       "7   Financial Condition        Financial condition of family\n",
       "8         Internet Type  Internet type used mostly in device\n",
       "9          Network Type            Network connectivity type\n",
       "10       Class Duration                 Daily class duration\n",
       "11             Self Lms   Institution’s own LMS availability\n",
       "12               Device          Device used mostly in class\n",
       "13     Adaptivity Level    Adaptability level of the student"
      ]
     },
     "execution_count": 4,
     "metadata": {},
     "output_type": "execute_result"
    }
   ],
   "source": [
    "# Dataframe with definition of each column \n",
    "var_def"
   ]
  },
  {
   "cell_type": "code",
   "execution_count": 5,
   "metadata": {
    "execution": {
     "iopub.execute_input": "2022-07-18T20:47:19.488178Z",
     "iopub.status.busy": "2022-07-18T20:47:19.487685Z",
     "iopub.status.idle": "2022-07-18T20:47:19.510801Z",
     "shell.execute_reply": "2022-07-18T20:47:19.508886Z",
     "shell.execute_reply.started": "2022-07-18T20:47:19.488144Z"
    }
   },
   "outputs": [
    {
     "data": {
      "text/html": [
       "<div>\n",
       "<style scoped>\n",
       "    .dataframe tbody tr th:only-of-type {\n",
       "        vertical-align: middle;\n",
       "    }\n",
       "\n",
       "    .dataframe tbody tr th {\n",
       "        vertical-align: top;\n",
       "    }\n",
       "\n",
       "    .dataframe thead th {\n",
       "        text-align: right;\n",
       "    }\n",
       "</style>\n",
       "<table border=\"1\" class=\"dataframe\">\n",
       "  <thead>\n",
       "    <tr style=\"text-align: right;\">\n",
       "      <th></th>\n",
       "      <th>Gender</th>\n",
       "      <th>Age</th>\n",
       "      <th>Education Level</th>\n",
       "      <th>Institution Type</th>\n",
       "      <th>IT Student</th>\n",
       "      <th>Location</th>\n",
       "      <th>Load-shedding</th>\n",
       "      <th>Financial Condition</th>\n",
       "      <th>Internet Type</th>\n",
       "      <th>Network Type</th>\n",
       "      <th>Class Duration</th>\n",
       "      <th>Self Lms</th>\n",
       "      <th>Device</th>\n",
       "      <th>Adaptivity Level</th>\n",
       "    </tr>\n",
       "  </thead>\n",
       "  <tbody>\n",
       "    <tr>\n",
       "      <th>0</th>\n",
       "      <td>Boy</td>\n",
       "      <td>21-25</td>\n",
       "      <td>University</td>\n",
       "      <td>Non Government</td>\n",
       "      <td>No</td>\n",
       "      <td>Yes</td>\n",
       "      <td>Low</td>\n",
       "      <td>Mid</td>\n",
       "      <td>Wifi</td>\n",
       "      <td>4G</td>\n",
       "      <td>3-6</td>\n",
       "      <td>No</td>\n",
       "      <td>Tab</td>\n",
       "      <td>Moderate</td>\n",
       "    </tr>\n",
       "    <tr>\n",
       "      <th>1</th>\n",
       "      <td>Girl</td>\n",
       "      <td>21-25</td>\n",
       "      <td>University</td>\n",
       "      <td>Non Government</td>\n",
       "      <td>No</td>\n",
       "      <td>Yes</td>\n",
       "      <td>High</td>\n",
       "      <td>Mid</td>\n",
       "      <td>Mobile Data</td>\n",
       "      <td>4G</td>\n",
       "      <td>1-3</td>\n",
       "      <td>Yes</td>\n",
       "      <td>Mobile</td>\n",
       "      <td>Moderate</td>\n",
       "    </tr>\n",
       "    <tr>\n",
       "      <th>2</th>\n",
       "      <td>Girl</td>\n",
       "      <td>16-20</td>\n",
       "      <td>College</td>\n",
       "      <td>Government</td>\n",
       "      <td>No</td>\n",
       "      <td>Yes</td>\n",
       "      <td>Low</td>\n",
       "      <td>Mid</td>\n",
       "      <td>Wifi</td>\n",
       "      <td>4G</td>\n",
       "      <td>1-3</td>\n",
       "      <td>No</td>\n",
       "      <td>Mobile</td>\n",
       "      <td>Moderate</td>\n",
       "    </tr>\n",
       "    <tr>\n",
       "      <th>3</th>\n",
       "      <td>Girl</td>\n",
       "      <td>11-15</td>\n",
       "      <td>School</td>\n",
       "      <td>Non Government</td>\n",
       "      <td>No</td>\n",
       "      <td>Yes</td>\n",
       "      <td>Low</td>\n",
       "      <td>Mid</td>\n",
       "      <td>Mobile Data</td>\n",
       "      <td>4G</td>\n",
       "      <td>1-3</td>\n",
       "      <td>No</td>\n",
       "      <td>Mobile</td>\n",
       "      <td>Moderate</td>\n",
       "    </tr>\n",
       "    <tr>\n",
       "      <th>4</th>\n",
       "      <td>Girl</td>\n",
       "      <td>16-20</td>\n",
       "      <td>School</td>\n",
       "      <td>Non Government</td>\n",
       "      <td>No</td>\n",
       "      <td>Yes</td>\n",
       "      <td>Low</td>\n",
       "      <td>Poor</td>\n",
       "      <td>Mobile Data</td>\n",
       "      <td>3G</td>\n",
       "      <td>0</td>\n",
       "      <td>No</td>\n",
       "      <td>Mobile</td>\n",
       "      <td>Low</td>\n",
       "    </tr>\n",
       "  </tbody>\n",
       "</table>\n",
       "</div>"
      ],
      "text/plain": [
       "  Gender    Age Education Level Institution Type IT Student Location  \\\n",
       "0    Boy  21-25      University   Non Government         No      Yes   \n",
       "1   Girl  21-25      University   Non Government         No      Yes   \n",
       "2   Girl  16-20         College       Government         No      Yes   \n",
       "3   Girl  11-15          School   Non Government         No      Yes   \n",
       "4   Girl  16-20          School   Non Government         No      Yes   \n",
       "\n",
       "  Load-shedding Financial Condition Internet Type Network Type Class Duration  \\\n",
       "0           Low                 Mid          Wifi           4G            3-6   \n",
       "1          High                 Mid   Mobile Data           4G            1-3   \n",
       "2           Low                 Mid          Wifi           4G            1-3   \n",
       "3           Low                 Mid   Mobile Data           4G            1-3   \n",
       "4           Low                Poor   Mobile Data           3G              0   \n",
       "\n",
       "  Self Lms  Device Adaptivity Level  \n",
       "0       No     Tab         Moderate  \n",
       "1      Yes  Mobile         Moderate  \n",
       "2       No  Mobile         Moderate  \n",
       "3       No  Mobile         Moderate  \n",
       "4       No  Mobile              Low  "
      ]
     },
     "execution_count": 5,
     "metadata": {},
     "output_type": "execute_result"
    }
   ],
   "source": [
    "# First five rows\n",
    "df.head()"
   ]
  },
  {
   "cell_type": "code",
   "execution_count": 6,
   "metadata": {
    "execution": {
     "iopub.execute_input": "2022-07-18T20:47:19.515089Z",
     "iopub.status.busy": "2022-07-18T20:47:19.514739Z",
     "iopub.status.idle": "2022-07-18T20:47:19.523745Z",
     "shell.execute_reply": "2022-07-18T20:47:19.522574Z",
     "shell.execute_reply.started": "2022-07-18T20:47:19.515058Z"
    }
   },
   "outputs": [
    {
     "data": {
      "text/plain": [
       "(1205, 14)"
      ]
     },
     "execution_count": 6,
     "metadata": {},
     "output_type": "execute_result"
    }
   ],
   "source": [
    "df.shape"
   ]
  },
  {
   "cell_type": "markdown",
   "metadata": {},
   "source": [
    "##### From the table, we notice that all the features collected in our data are of categorical datatype."
   ]
  },
  {
   "cell_type": "code",
   "execution_count": 7,
   "metadata": {
    "execution": {
     "iopub.execute_input": "2022-07-18T20:47:19.526383Z",
     "iopub.status.busy": "2022-07-18T20:47:19.525880Z",
     "iopub.status.idle": "2022-07-18T20:47:19.558678Z",
     "shell.execute_reply": "2022-07-18T20:47:19.557594Z",
     "shell.execute_reply.started": "2022-07-18T20:47:19.526341Z"
    },
    "scrolled": false
   },
   "outputs": [
    {
     "name": "stdout",
     "output_type": "stream",
     "text": [
      "<class 'pandas.core.frame.DataFrame'>\n",
      "RangeIndex: 1205 entries, 0 to 1204\n",
      "Data columns (total 14 columns):\n",
      " #   Column               Non-Null Count  Dtype \n",
      "---  ------               --------------  ----- \n",
      " 0   Gender               1205 non-null   object\n",
      " 1   Age                  1205 non-null   object\n",
      " 2   Education Level      1205 non-null   object\n",
      " 3   Institution Type     1205 non-null   object\n",
      " 4   IT Student           1205 non-null   object\n",
      " 5   Location             1205 non-null   object\n",
      " 6   Load-shedding        1205 non-null   object\n",
      " 7   Financial Condition  1205 non-null   object\n",
      " 8   Internet Type        1205 non-null   object\n",
      " 9   Network Type         1205 non-null   object\n",
      " 10  Class Duration       1205 non-null   object\n",
      " 11  Self Lms             1205 non-null   object\n",
      " 12  Device               1205 non-null   object\n",
      " 13  Adaptivity Level     1205 non-null   object\n",
      "dtypes: object(14)\n",
      "memory usage: 131.9+ KB\n"
     ]
    }
   ],
   "source": [
    "# cheking the characteristics of the data \n",
    "df.info()"
   ]
  },
  {
   "cell_type": "markdown",
   "metadata": {},
   "source": [
    "### Check for missing values"
   ]
  },
  {
   "cell_type": "code",
   "execution_count": 8,
   "metadata": {},
   "outputs": [
    {
     "data": {
      "text/plain": [
       "Gender                 0\n",
       "Age                    0\n",
       "Education Level        0\n",
       "Institution Type       0\n",
       "IT Student             0\n",
       "Location               0\n",
       "Load-shedding          0\n",
       "Financial Condition    0\n",
       "Internet Type          0\n",
       "Network Type           0\n",
       "Class Duration         0\n",
       "Self Lms               0\n",
       "Device                 0\n",
       "Adaptivity Level       0\n",
       "dtype: int64"
      ]
     },
     "execution_count": 8,
     "metadata": {},
     "output_type": "execute_result"
    }
   ],
   "source": [
    "df.isnull().sum()"
   ]
  },
  {
   "cell_type": "markdown",
   "metadata": {},
   "source": [
    "##### The dataset does not contain NaN values"
   ]
  },
  {
   "cell_type": "markdown",
   "metadata": {},
   "source": [
    "# Data Analysis"
   ]
  },
  {
   "cell_type": "markdown",
   "metadata": {},
   "source": [
    "### Gender"
   ]
  },
  {
   "cell_type": "code",
   "execution_count": 9,
   "metadata": {
    "execution": {
     "iopub.execute_input": "2022-07-18T20:47:19.596967Z",
     "iopub.status.busy": "2022-07-18T20:47:19.596124Z",
     "iopub.status.idle": "2022-07-18T20:47:20.109265Z",
     "shell.execute_reply": "2022-07-18T20:47:20.108093Z",
     "shell.execute_reply.started": "2022-07-18T20:47:19.596922Z"
    }
   },
   "outputs": [
    {
     "data": {
      "image/png": "[encoded data removed]",
      "text/plain": [
       "<Figure size 504x360 with 1 Axes>"
      ]
     },
     "metadata": {
      "needs_background": "light"
     },
     "output_type": "display_data"
    }
   ],
   "source": [
    "fig, ax = plt.subplots(figsize=(7,5))\n",
    "sns.countplot(x=df.Gender, ax=ax)\n",
    "ax.set_title('Gender Distribution in the Data')\n",
    "plt.ylabel('Number of Students')\n",
    "plt.savefig('gender_plot.png', dpi=300)\n",
    "\n",
    "plt.show()"
   ]
  },
  {
   "cell_type": "markdown",
   "metadata": {},
   "source": [
    "From the plot above, the number of male respondents are slightly more than the number of female respondents from the survery"
   ]
  },
  {
   "cell_type": "markdown",
   "metadata": {},
   "source": [
    "### Age"
   ]
  },
  {
   "cell_type": "code",
   "execution_count": 10,
   "metadata": {
    "execution": {
     "iopub.execute_input": "2022-07-18T20:47:20.111278Z",
     "iopub.status.busy": "2022-07-18T20:47:20.110786Z",
     "iopub.status.idle": "2022-07-18T20:47:20.118989Z",
     "shell.execute_reply": "2022-07-18T20:47:20.117881Z",
     "shell.execute_reply.started": "2022-07-18T20:47:20.111232Z"
    }
   },
   "outputs": [
    {
     "data": {
      "text/plain": [
       "array(['21-25', '16-20', '11-15', '26-30', '6-10', '1-5'], dtype=object)"
      ]
     },
     "execution_count": 10,
     "metadata": {},
     "output_type": "execute_result"
    }
   ],
   "source": [
    "df.Age.unique()"
   ]
  },
  {
   "cell_type": "code",
   "execution_count": 11,
   "metadata": {
    "execution": {
     "iopub.execute_input": "2022-07-18T20:47:20.121180Z",
     "iopub.status.busy": "2022-07-18T20:47:20.120623Z",
     "iopub.status.idle": "2022-07-18T20:47:20.128619Z",
     "shell.execute_reply": "2022-07-18T20:47:20.127536Z",
     "shell.execute_reply.started": "2022-07-18T20:47:20.121143Z"
    }
   },
   "outputs": [],
   "source": [
    "# View the plot of age distribution in a specific order\n",
    "\n",
    "age_order = ['1-5', '6-10', '11-15', '16-20', '21-25', '26-30']"
   ]
  },
  {
   "cell_type": "code",
   "execution_count": 12,
   "metadata": {
    "execution": {
     "iopub.execute_input": "2022-07-18T20:47:20.130929Z",
     "iopub.status.busy": "2022-07-18T20:47:20.130039Z",
     "iopub.status.idle": "2022-07-18T20:47:20.767083Z",
     "shell.execute_reply": "2022-07-18T20:47:20.765971Z",
     "shell.execute_reply.started": "2022-07-18T20:47:20.130886Z"
    }
   },
   "outputs": [
    {
     "data": {
      "image/png": "[encoded data removed]",
      "text/plain": [
       "<Figure size 576x432 with 1 Axes>"
      ]
     },
     "metadata": {
      "needs_background": "light"
     },
     "output_type": "display_data"
    }
   ],
   "source": [
    "fig, ax = plt.subplots(figsize=(8,6))\n",
    "df.Age.value_counts().loc[age_order].plot(kind='bar', ax=ax)\n",
    "\n",
    "ax.set_title('Age Distribution in the Data')\n",
    "plt.ylabel('Number of Students')\n",
    "plt.xlabel('Years')\n",
    "plt.savefig('age_dist_plot.png' ,dpi=300)\n",
    "plt.show()"
   ]
  },
  {
   "cell_type": "markdown",
   "metadata": {},
   "source": [
    "\n",
    "The distribution of the respondent's age follows a normal distribution pattern, the most occuring age bracket is 21-25  years\n",
    "\n",
    "Also the age distribution looks like a bi-modal distribution, Bi-modal distribution seems more appropriate for the age distribution with modes of (11-15) and (21-25)"
   ]
  },
  {
   "cell_type": "markdown",
   "metadata": {},
   "source": [
    "### Education Level"
   ]
  },
  {
   "cell_type": "code",
   "execution_count": 13,
   "metadata": {
    "execution": {
     "iopub.execute_input": "2022-07-18T20:47:21.440135Z",
     "iopub.status.busy": "2022-07-18T20:47:21.439424Z",
     "iopub.status.idle": "2022-07-18T20:47:21.895517Z",
     "shell.execute_reply": "2022-07-18T20:47:21.894472Z",
     "shell.execute_reply.started": "2022-07-18T20:47:21.440089Z"
    }
   },
   "outputs": [
    {
     "data": {
      "image/png": "[encoded data removed]",
      "text/plain": [
       "<Figure size 504x360 with 1 Axes>"
      ]
     },
     "metadata": {
      "needs_background": "light"
     },
     "output_type": "display_data"
    }
   ],
   "source": [
    "fig, ax = plt.subplots(figsize=(7,5))\n",
    "sns.countplot(x=df['Education Level'], ax=ax)\n",
    "\n",
    "ax.set_title('Respondent Education Levels')\n",
    "plt.ylabel('Number of Students')\n",
    "plt.savefig('education_plot.png' ,dpi=300)\n",
    "plt.show()"
   ]
  },
  {
   "cell_type": "markdown",
   "metadata": {},
   "source": [
    "Most of the respondents to the survey were students attending formal educational institutes that offer just primary and secondary education\n",
    "\n",
    "College significanlty have the least number of respondents"
   ]
  },
  {
   "cell_type": "markdown",
   "metadata": {},
   "source": [
    "### Device"
   ]
  },
  {
   "cell_type": "code",
   "execution_count": 14,
   "metadata": {
    "execution": {
     "iopub.execute_input": "2022-07-18T20:47:21.897807Z",
     "iopub.status.busy": "2022-07-18T20:47:21.896811Z",
     "iopub.status.idle": "2022-07-18T20:47:21.907719Z",
     "shell.execute_reply": "2022-07-18T20:47:21.906795Z",
     "shell.execute_reply.started": "2022-07-18T20:47:21.897772Z"
    }
   },
   "outputs": [
    {
     "data": {
      "text/plain": [
       "array(['Tab', 'Mobile', 'Computer'], dtype=object)"
      ]
     },
     "execution_count": 14,
     "metadata": {},
     "output_type": "execute_result"
    }
   ],
   "source": [
    "df['Device'].unique()"
   ]
  },
  {
   "cell_type": "code",
   "execution_count": 15,
   "metadata": {
    "execution": {
     "iopub.execute_input": "2022-07-18T20:47:21.909616Z",
     "iopub.status.busy": "2022-07-18T20:47:21.909230Z",
     "iopub.status.idle": "2022-07-18T20:47:22.398415Z",
     "shell.execute_reply": "2022-07-18T20:47:22.396971Z",
     "shell.execute_reply.started": "2022-07-18T20:47:21.909584Z"
    }
   },
   "outputs": [
    {
     "data": {
      "image/png": "[encoded data removed]",
      "text/plain": [
       "<Figure size 504x360 with 1 Axes>"
      ]
     },
     "metadata": {
      "needs_background": "light"
     },
     "output_type": "display_data"
    }
   ],
   "source": [
    "fig, ax = plt.subplots(figsize=(7,5))\n",
    "sns.countplot(x=df['Device'], ax=ax)\n",
    "\n",
    "plt.ylabel('Number of Students')\n",
    "ax.set_title(\"Device Accesible By Students For Online Learning\")\n",
    "plt.savefig('device_plot.png' ,dpi=300)\n",
    "plt.show()"
   ]
  },
  {
   "cell_type": "markdown",
   "metadata": {},
   "source": [
    "From the plot above, only few students have access to Computer, most of the students have access to mobile."
   ]
  },
  {
   "cell_type": "markdown",
   "metadata": {},
   "source": [
    "### Target Analysis (Adaptivty feature)"
   ]
  },
  {
   "cell_type": "code",
   "execution_count": 16,
   "metadata": {},
   "outputs": [
    {
     "data": {
      "text/plain": [
       "array(['Moderate', 'Low', 'High'], dtype=object)"
      ]
     },
     "execution_count": 16,
     "metadata": {},
     "output_type": "execute_result"
    }
   ],
   "source": [
    "df['Adaptivity Level'].unique()"
   ]
  },
  {
   "cell_type": "markdown",
   "metadata": {},
   "source": [
    "The aim of this project is to predict how well a student is likely to adapt to an online learning system. <p>\n",
    "The target feature contains 3 unique levels which are Low, Medium and High levels of adaptability. "
   ]
  },
  {
   "cell_type": "code",
   "execution_count": 17,
   "metadata": {},
   "outputs": [
    {
     "data": {
      "image/png": "[encoded data removed]",
      "text/plain": [
       "<Figure size 576x432 with 1 Axes>"
      ]
     },
     "metadata": {
      "needs_background": "light"
     },
     "output_type": "display_data"
    }
   ],
   "source": [
    "fig, ax = plt.subplots(figsize=(8,6))\n",
    "(df['Adaptivity Level'].value_counts(normalize=True) * 100).plot(kind='bar', ax=ax)\n",
    "\n",
    "ax.set_title(\"Student's Adaptivity To Online Learning\")\n",
    "plt.ylabel('Percentage %')\n",
    "plt.xticks(rotation=0)\n",
    "plt.savefig('adaptivity.png' ,dpi=300)\n",
    "plt.show()"
   ]
  },
  {
   "cell_type": "markdown",
   "metadata": {},
   "source": [
    "The dataset is imbalanced because there are significantly lesser samples (~10%) with High adaptivity level, compared Moderate and Low Adaptivity levels."
   ]
  },
  {
   "cell_type": "markdown",
   "metadata": {},
   "source": [
    "### Age & Adaptability Level"
   ]
  },
  {
   "cell_type": "code",
   "execution_count": 18,
   "metadata": {
    "execution": {
     "iopub.execute_input": "2022-07-18T20:47:22.401443Z",
     "iopub.status.busy": "2022-07-18T20:47:22.400577Z",
     "iopub.status.idle": "2022-07-18T20:47:23.253235Z",
     "shell.execute_reply": "2022-07-18T20:47:23.252398Z",
     "shell.execute_reply.started": "2022-07-18T20:47:22.401388Z"
    }
   },
   "outputs": [
    {
     "data": {
      "image/png": "[encoded data removed]",
      "text/plain": [
       "<Figure size 864x504 with 1 Axes>"
      ]
     },
     "metadata": {
      "needs_background": "light"
     },
     "output_type": "display_data"
    }
   ],
   "source": [
    "fig, ax = plt.subplots(figsize=(12,7))\n",
    "sns.countplot(x=df['Age'], ax=ax, hue=df['Adaptivity Level'], order=age_order, hue_order=['Low','Moderate', 'High'])\n",
    "\n",
    "ax.set_title(\"Student Adaptivity levels for the Age Brackets\")\n",
    "plt.ylabel('Number of Students')\n",
    "plt.legend(loc='upper right')\n",
    "plt.savefig('age_adapt.png' ,dpi=300)\n",
    "plt.show()"
   ]
  },
  {
   "cell_type": "markdown",
   "metadata": {},
   "source": [
    "From the plot above, we see that students within the age bracket 16-20, have the highest number of students with the low level of adaptability. <p>\n",
    "None of the students in age bracket 1-5 are recorded to have a high adaptivity level to online learning"
   ]
  },
  {
   "cell_type": "markdown",
   "metadata": {},
   "source": [
    "### Gender & Adaptivity Level"
   ]
  },
  {
   "cell_type": "code",
   "execution_count": 19,
   "metadata": {
    "execution": {
     "iopub.execute_input": "2022-07-18T20:47:23.255463Z",
     "iopub.status.busy": "2022-07-18T20:47:23.254769Z",
     "iopub.status.idle": "2022-07-18T20:47:23.979383Z",
     "shell.execute_reply": "2022-07-18T20:47:23.978495Z",
     "shell.execute_reply.started": "2022-07-18T20:47:23.255420Z"
    }
   },
   "outputs": [
    {
     "data": {
      "image/png": "[encoded data removed]",
      "text/plain": [
       "<Figure size 864x504 with 1 Axes>"
      ]
     },
     "metadata": {
      "needs_background": "light"
     },
     "output_type": "display_data"
    }
   ],
   "source": [
    "fig, ax = plt.subplots(figsize=(12,7))\n",
    "sns.countplot(x=df['Gender'], ax=ax, hue=df['Adaptivity Level'], hue_order=['Low','Moderate', 'High'])\n",
    "\n",
    "ax.set_title(\"Student Adaptivity levels for each Gender\")\n",
    "plt.ylabel('Number of Students')\n",
    "plt.legend(loc='upper right')\n",
    "plt.savefig('gender_adapt.png' ,dpi=300)\n",
    "plt.show()"
   ]
  },
  {
   "cell_type": "markdown",
   "metadata": {},
   "source": [
    "Only by taking the proportion of Low and High adaptability levels for each gender in the dataset, we can infer that male students tend to show higher adaptability than female."
   ]
  },
  {
   "cell_type": "markdown",
   "metadata": {},
   "source": [
    "### Load Shedding & Adaptivity Level"
   ]
  },
  {
   "cell_type": "markdown",
   "metadata": {},
   "source": [
    "How level of Level of load shedding affects student adaptivity"
   ]
  },
  {
   "cell_type": "code",
   "execution_count": 20,
   "metadata": {
    "execution": {
     "iopub.execute_input": "2022-07-18T20:47:23.981626Z",
     "iopub.status.busy": "2022-07-18T20:47:23.980928Z",
     "iopub.status.idle": "2022-07-18T20:47:24.676456Z",
     "shell.execute_reply": "2022-07-18T20:47:24.674764Z",
     "shell.execute_reply.started": "2022-07-18T20:47:23.981583Z"
    }
   },
   "outputs": [
    {
     "data": {
      "image/png": "[encoded data removed]",
      "text/plain": [
       "<Figure size 864x504 with 1 Axes>"
      ]
     },
     "metadata": {
      "needs_background": "light"
     },
     "output_type": "display_data"
    }
   ],
   "source": [
    "fig, ax = plt.subplots(figsize=(12,7))\n",
    "sns.countplot(x=df['Load-shedding'], ax=ax, hue=df['Adaptivity Level'], hue_order=['Low','Moderate', 'High'])\n",
    "\n",
    "ax.set_title(\"Student Adaptivity levels vs Load Shedding\")\n",
    "plt.ylabel('Number of Students')\n",
    "plt.legend(loc='upper right')\n",
    "plt.savefig('load_shed_adapt.png' ,dpi=300)\n",
    "plt.show()"
   ]
  },
  {
   "cell_type": "markdown",
   "metadata": {},
   "source": [
    "Students that live in area with High load shedding level tend to show low adaptivity level"
   ]
  },
  {
   "cell_type": "markdown",
   "metadata": {},
   "source": [
    "### Class Duration vs Adaptivity Level"
   ]
  },
  {
   "cell_type": "code",
   "execution_count": 21,
   "metadata": {
    "execution": {
     "iopub.execute_input": "2022-07-18T20:47:24.679288Z",
     "iopub.status.busy": "2022-07-18T20:47:24.678262Z",
     "iopub.status.idle": "2022-07-18T20:47:25.370340Z",
     "shell.execute_reply": "2022-07-18T20:47:25.369328Z",
     "shell.execute_reply.started": "2022-07-18T20:47:24.679250Z"
    }
   },
   "outputs": [
    {
     "data": {
      "image/png": "[encoded data removed]",
      "text/plain": [
       "<Figure size 864x504 with 1 Axes>"
      ]
     },
     "metadata": {
      "needs_background": "light"
     },
     "output_type": "display_data"
    }
   ],
   "source": [
    "fig, ax = plt.subplots(figsize=(12,7))\n",
    "sns.countplot(x=df['Class Duration'], ax=ax, hue=df['Adaptivity Level'], hue_order=['Low','Moderate', 'High'])\n",
    "\n",
    "ax.set_title(\"Student Adaptivity levels vs Class Duration\")\n",
    "plt.ylabel('Number of Students')\n",
    "plt.legend(loc='upper right')\n",
    "plt.savefig('class_dur_adapt.png' ,dpi=300)\n",
    "plt.show()"
   ]
  },
  {
   "cell_type": "markdown",
   "metadata": {},
   "source": [
    "### Education Level & Adaptivity Level"
   ]
  },
  {
   "cell_type": "code",
   "execution_count": 22,
   "metadata": {
    "execution": {
     "iopub.execute_input": "2022-07-18T20:47:25.372500Z",
     "iopub.status.busy": "2022-07-18T20:47:25.371871Z",
     "iopub.status.idle": "2022-07-18T20:47:26.088645Z",
     "shell.execute_reply": "2022-07-18T20:47:26.087473Z",
     "shell.execute_reply.started": "2022-07-18T20:47:25.372466Z"
    }
   },
   "outputs": [
    {
     "data": {
      "image/png": "[encoded data removed]",
      "text/plain": [
       "<Figure size 864x504 with 1 Axes>"
      ]
     },
     "metadata": {
      "needs_background": "light"
     },
     "output_type": "display_data"
    }
   ],
   "source": [
    "fig, ax = plt.subplots(figsize=(12,7))\n",
    "sns.countplot(x=df['Education Level'], ax=ax, hue=df['Adaptivity Level'], hue_order=['Low','Moderate', 'High'])\n",
    "\n",
    "ax.set_title(\"Student Adaptivity levels vs Education Levels\")\n",
    "plt.ylabel('Number of Students')\n",
    "plt.legend(loc='upper right')\n",
    "plt.savefig('educ_adapt.png' ,dpi=300)\n",
    "plt.show()"
   ]
  },
  {
   "cell_type": "markdown",
   "metadata": {},
   "source": [
    "The plot above shows the relationship between Adaptivity level and Education Level of students"
   ]
  },
  {
   "cell_type": "markdown",
   "metadata": {},
   "source": [
    "### Network Type & Adaptivity Level"
   ]
  },
  {
   "cell_type": "code",
   "execution_count": 23,
   "metadata": {
    "execution": {
     "iopub.execute_input": "2022-07-18T20:47:26.090468Z",
     "iopub.status.busy": "2022-07-18T20:47:26.090082Z",
     "iopub.status.idle": "2022-07-18T20:47:26.832669Z",
     "shell.execute_reply": "2022-07-18T20:47:26.831385Z",
     "shell.execute_reply.started": "2022-07-18T20:47:26.090436Z"
    }
   },
   "outputs": [
    {
     "data": {
      "image/png": "[encoded data removed]",
      "text/plain": [
       "<Figure size 864x504 with 1 Axes>"
      ]
     },
     "metadata": {
      "needs_background": "light"
     },
     "output_type": "display_data"
    }
   ],
   "source": [
    "fig, ax = plt.subplots(figsize=(12,7))\n",
    "sns.countplot(x=df['Network Type'], ax=ax, hue=df['Adaptivity Level'], hue_order=['Low','Moderate', 'High'])\n",
    "\n",
    "ax.set_title(\"Student Adaptivity levels vs Network Type\")\n",
    "plt.ylabel('Number of Students')\n",
    "plt.legend(loc='upper right')\n",
    "plt.savefig('network_adapt.png' ,dpi=300)\n",
    "plt.show()"
   ]
  },
  {
   "cell_type": "markdown",
   "metadata": {},
   "source": [
    "Students that only have access to a 2G network are likely to show low adaptability to online education, this makes sense because 2G network is the slowest amongst the network types."
   ]
  },
  {
   "cell_type": "markdown",
   "metadata": {},
   "source": [
    "### Location & Adaptivity Level"
   ]
  },
  {
   "cell_type": "markdown",
   "metadata": {},
   "source": [
    "Is student location in town? <p>\n",
    "How students location affects adaptivity level"
   ]
  },
  {
   "cell_type": "code",
   "execution_count": 24,
   "metadata": {
    "execution": {
     "iopub.execute_input": "2022-07-18T20:47:26.835073Z",
     "iopub.status.busy": "2022-07-18T20:47:26.834339Z",
     "iopub.status.idle": "2022-07-18T20:47:27.525868Z",
     "shell.execute_reply": "2022-07-18T20:47:27.524159Z",
     "shell.execute_reply.started": "2022-07-18T20:47:26.835019Z"
    }
   },
   "outputs": [
    {
     "data": {
      "image/png": "[encoded data removed]",
      "text/plain": [
       "<Figure size 864x504 with 1 Axes>"
      ]
     },
     "metadata": {
      "needs_background": "light"
     },
     "output_type": "display_data"
    }
   ],
   "source": [
    "fig, ax = plt.subplots(figsize=(12,7))\n",
    "sns.countplot(x=df['Location'], ax=ax, hue=df['Adaptivity Level'], hue_order=['Low','Moderate', 'High'])\n",
    "\n",
    "ax.set_title(\"Student Adaptivity levels vs Location\")\n",
    "plt.ylabel('Number of Students')\n",
    "plt.legend(loc='upper right')\n",
    "plt.savefig('location_adapt.png' ,dpi=300)\n",
    "plt.show()"
   ]
  },
  {
   "cell_type": "markdown",
   "metadata": {},
   "source": [
    "# Data Preprocessing"
   ]
  },
  {
   "cell_type": "code",
   "execution_count": 25,
   "metadata": {
    "execution": {
     "iopub.execute_input": "2022-07-18T20:47:28.083792Z",
     "iopub.status.busy": "2022-07-18T20:47:28.082679Z",
     "iopub.status.idle": "2022-07-18T20:47:28.103192Z",
     "shell.execute_reply": "2022-07-18T20:47:28.102031Z",
     "shell.execute_reply.started": "2022-07-18T20:47:28.083744Z"
    }
   },
   "outputs": [
    {
     "name": "stdout",
     "output_type": "stream",
     "text": [
      "<class 'pandas.core.frame.DataFrame'>\n",
      "RangeIndex: 1205 entries, 0 to 1204\n",
      "Columns: 14 entries, Gender to Adaptivity Level\n",
      "dtypes: object(14)\n",
      "memory usage: 131.9+ KB\n"
     ]
    }
   ],
   "source": [
    "# Types of columns\n",
    "df.info(verbose=False)"
   ]
  },
  {
   "cell_type": "markdown",
   "metadata": {},
   "source": [
    "### Convert columns to category column"
   ]
  },
  {
   "cell_type": "code",
   "execution_count": 26,
   "metadata": {},
   "outputs": [],
   "source": [
    "for col in df.columns.drop('Age'):  # Drop Age because we intend to treat Age as numerical\n",
    "    df[col] = df[col].astype('category')"
   ]
  },
  {
   "cell_type": "markdown",
   "metadata": {},
   "source": [
    "### Transform Age Values "
   ]
  },
  {
   "cell_type": "markdown",
   "metadata": {},
   "source": [
    "#### The age values are currently in a bracket, the ages would be transformed by taking the mean of the age brackets"
   ]
  },
  {
   "cell_type": "code",
   "execution_count": 27,
   "metadata": {},
   "outputs": [],
   "source": [
    "def transform_age(age):\n",
    "    '''\n",
    "    function transform age values within a bracket seperated by hyphen  -\n",
    "    \n",
    "    args:\n",
    "        age: age bracket\n",
    "    returns:\n",
    "        age_mean: Average of age values within bracket\n",
    "        \n",
    "    '''\n",
    "    low, up = age.split('-')\n",
    "    # Convert string age values to integer\n",
    "    low, up = int(low), int(up)\n",
    "    \n",
    "    age_mean = np.mean([low,up])\n",
    "    return age_mean"
   ]
  },
  {
   "cell_type": "code",
   "execution_count": 28,
   "metadata": {},
   "outputs": [],
   "source": [
    "df['Age_new'] = df.Age.apply(transform_age)"
   ]
  },
  {
   "cell_type": "code",
   "execution_count": 29,
   "metadata": {},
   "outputs": [
    {
     "data": {
      "text/plain": [
       "660     13.0\n",
       "692     23.0\n",
       "1120    13.0\n",
       "Name: Age_new, dtype: float64"
      ]
     },
     "execution_count": 29,
     "metadata": {},
     "output_type": "execute_result"
    }
   ],
   "source": [
    "df['Age_new'].sample(3)"
   ]
  },
  {
   "cell_type": "code",
   "execution_count": 30,
   "metadata": {},
   "outputs": [],
   "source": [
    "# View the plot of Transformed age distribution in a specific order\n",
    "\n",
    "stat_order = ['min', 'std', '25%', '50%', 'mean', '75%', 'max']"
   ]
  },
  {
   "cell_type": "code",
   "execution_count": 31,
   "metadata": {},
   "outputs": [
    {
     "data": {
      "image/png": "[encoded data removed]",
      "text/plain": [
       "<Figure size 576x432 with 1 Axes>"
      ]
     },
     "metadata": {
      "needs_background": "light"
     },
     "output_type": "display_data"
    }
   ],
   "source": [
    "fig, ax = plt.subplots(figsize=(8,6))\n",
    "df['Age_new'].describe().loc[stat_order].plot(kind='bar', ax=ax)\n",
    "\n",
    "ax.set_title('Transformed Age Distribution')\n",
    "plt.ylabel('Age')\n",
    "plt.ylim(0, 30)\n",
    "plt.xlabel('Years')\n",
    "plt.savefig('age_stat_plot.png' ,dpi=300)\n",
    "plt.show()"
   ]
  },
  {
   "cell_type": "markdown",
   "metadata": {},
   "source": [
    "From the plot above, the mean age of students is slightly less than the median (50% percentile), this means that the age distribution is slightly negatively (left) skewed."
   ]
  },
  {
   "cell_type": "code",
   "execution_count": 32,
   "metadata": {},
   "outputs": [
    {
     "data": {
      "text/html": [
       "<div>\n",
       "<style scoped>\n",
       "    .dataframe tbody tr th:only-of-type {\n",
       "        vertical-align: middle;\n",
       "    }\n",
       "\n",
       "    .dataframe tbody tr th {\n",
       "        vertical-align: top;\n",
       "    }\n",
       "\n",
       "    .dataframe thead th {\n",
       "        text-align: right;\n",
       "    }\n",
       "</style>\n",
       "<table border=\"1\" class=\"dataframe\">\n",
       "  <thead>\n",
       "    <tr style=\"text-align: right;\">\n",
       "      <th></th>\n",
       "      <th>Gender</th>\n",
       "      <th>Age</th>\n",
       "      <th>Education Level</th>\n",
       "      <th>Institution Type</th>\n",
       "      <th>IT Student</th>\n",
       "      <th>Location</th>\n",
       "      <th>Load-shedding</th>\n",
       "      <th>Financial Condition</th>\n",
       "      <th>Internet Type</th>\n",
       "      <th>Network Type</th>\n",
       "      <th>Class Duration</th>\n",
       "      <th>Self Lms</th>\n",
       "      <th>Device</th>\n",
       "      <th>Adaptivity Level</th>\n",
       "      <th>Age_new</th>\n",
       "    </tr>\n",
       "  </thead>\n",
       "  <tbody>\n",
       "    <tr>\n",
       "      <th>0</th>\n",
       "      <td>Boy</td>\n",
       "      <td>21-25</td>\n",
       "      <td>University</td>\n",
       "      <td>Non Government</td>\n",
       "      <td>No</td>\n",
       "      <td>Yes</td>\n",
       "      <td>Low</td>\n",
       "      <td>Mid</td>\n",
       "      <td>Wifi</td>\n",
       "      <td>4G</td>\n",
       "      <td>3-6</td>\n",
       "      <td>No</td>\n",
       "      <td>Tab</td>\n",
       "      <td>Moderate</td>\n",
       "      <td>23.0</td>\n",
       "    </tr>\n",
       "  </tbody>\n",
       "</table>\n",
       "</div>"
      ],
      "text/plain": [
       "  Gender    Age Education Level Institution Type IT Student Location  \\\n",
       "0    Boy  21-25      University   Non Government         No      Yes   \n",
       "\n",
       "  Load-shedding Financial Condition Internet Type Network Type Class Duration  \\\n",
       "0           Low                 Mid          Wifi           4G            3-6   \n",
       "\n",
       "  Self Lms Device Adaptivity Level  Age_new  \n",
       "0       No    Tab         Moderate     23.0  "
      ]
     },
     "execution_count": 32,
     "metadata": {},
     "output_type": "execute_result"
    }
   ],
   "source": [
    "df.head(1)"
   ]
  },
  {
   "cell_type": "code",
   "execution_count": 33,
   "metadata": {
    "execution": {
     "iopub.execute_input": "2022-07-18T20:47:28.105691Z",
     "iopub.status.busy": "2022-07-18T20:47:28.104725Z",
     "iopub.status.idle": "2022-07-18T20:47:28.115612Z",
     "shell.execute_reply": "2022-07-18T20:47:28.114426Z",
     "shell.execute_reply.started": "2022-07-18T20:47:28.105644Z"
    }
   },
   "outputs": [],
   "source": [
    "cols_to_drop=set()"
   ]
  },
  {
   "cell_type": "code",
   "execution_count": 34,
   "metadata": {
    "execution": {
     "iopub.execute_input": "2022-07-18T20:47:28.149184Z",
     "iopub.status.busy": "2022-07-18T20:47:28.148444Z",
     "iopub.status.idle": "2022-07-18T20:47:28.154852Z",
     "shell.execute_reply": "2022-07-18T20:47:28.153364Z",
     "shell.execute_reply.started": "2022-07-18T20:47:28.149136Z"
    }
   },
   "outputs": [],
   "source": [
    "# adding age to the set to drop \n",
    "cols_to_drop.add('Age')"
   ]
  },
  {
   "cell_type": "code",
   "execution_count": 35,
   "metadata": {},
   "outputs": [],
   "source": [
    "# drop age\n",
    "df.drop(columns=[col for col in cols_to_drop if col in df.columns], inplace=True)"
   ]
  },
  {
   "cell_type": "code",
   "execution_count": 36,
   "metadata": {
    "execution": {
     "iopub.execute_input": "2022-07-18T20:47:28.157951Z",
     "iopub.status.busy": "2022-07-18T20:47:28.156490Z",
     "iopub.status.idle": "2022-07-18T20:47:28.175743Z",
     "shell.execute_reply": "2022-07-18T20:47:28.174303Z",
     "shell.execute_reply.started": "2022-07-18T20:47:28.157903Z"
    }
   },
   "outputs": [
    {
     "data": {
      "text/plain": [
       "Gender                 2\n",
       "Education Level        3\n",
       "Institution Type       2\n",
       "IT Student             2\n",
       "Location               2\n",
       "Load-shedding          2\n",
       "Financial Condition    3\n",
       "Internet Type          2\n",
       "Network Type           3\n",
       "Class Duration         3\n",
       "Self Lms               2\n",
       "Device                 3\n",
       "Adaptivity Level       3\n",
       "Age_new                6\n",
       "dtype: int64"
      ]
     },
     "execution_count": 36,
     "metadata": {},
     "output_type": "execute_result"
    }
   ],
   "source": [
    "df.nunique()"
   ]
  },
  {
   "cell_type": "markdown",
   "metadata": {},
   "source": [
    "### one-hot Encoding "
   ]
  },
  {
   "cell_type": "code",
   "execution_count": 37,
   "metadata": {
    "execution": {
     "iopub.execute_input": "2022-07-18T20:47:28.178702Z",
     "iopub.status.busy": "2022-07-18T20:47:28.177785Z",
     "iopub.status.idle": "2022-07-18T20:47:28.186181Z",
     "shell.execute_reply": "2022-07-18T20:47:28.184758Z",
     "shell.execute_reply.started": "2022-07-18T20:47:28.178650Z"
    }
   },
   "outputs": [],
   "source": [
    "# adding columns that needs one hot encoder to a list\n",
    "one_hot_encode_cols = ['Gender',  'IT Student', 'Location', 'Load-shedding', 'Internet Type', 'Self Lms']"
   ]
  },
  {
   "cell_type": "code",
   "execution_count": 38,
   "metadata": {},
   "outputs": [
    {
     "data": {
      "text/plain": [
       "(1205, 14)"
      ]
     },
     "execution_count": 38,
     "metadata": {},
     "output_type": "execute_result"
    }
   ],
   "source": [
    "# One hot encode columns\n",
    "\n",
    "df = pd.get_dummies(df, columns=one_hot_encode_cols, drop_first=True)  # drop_first is set to True to avoid the dummy variable trap\n",
    "df.shape"
   ]
  },
  {
   "cell_type": "markdown",
   "metadata": {},
   "source": [
    "### Mapping "
   ]
  },
  {
   "cell_type": "code",
   "execution_count": 39,
   "metadata": {
    "execution": {
     "iopub.execute_input": "2022-07-18T20:47:28.226522Z",
     "iopub.status.busy": "2022-07-18T20:47:28.226015Z",
     "iopub.status.idle": "2022-07-18T20:47:28.250439Z",
     "shell.execute_reply": "2022-07-18T20:47:28.249372Z",
     "shell.execute_reply.started": "2022-07-18T20:47:28.226483Z"
    }
   },
   "outputs": [],
   "source": [
    "# Encode the values in columns\n",
    "\n",
    "df['Education Level'] = df['Education Level'].map({'School':1, 'College':2, 'University':3})\n",
    "\n",
    "df['Financial Condition'] = df['Financial Condition'].map({'Poor':1, 'Mid':2, 'Rich':3})\n",
    "\n",
    "df['Institution Type'] = df['Institution Type'].map({'Government':0, 'Non Government':1})\n",
    "\n",
    "df['Network Type'] = df['Network Type'].map({'2G':1, '3G':2, '4G':3})\n",
    "\n",
    "df['Class Duration'] = df['Class Duration'].map({'0':2, '1-3':1, '3-6':0})\n",
    "\n",
    "df['Device'] = df['Device'].map({'Tab':1, 'Mobile':2, 'Computer':3})"
   ]
  },
  {
   "cell_type": "markdown",
   "metadata": {},
   "source": [
    "### LabelEncoder for target column"
   ]
  },
  {
   "cell_type": "code",
   "execution_count": 40,
   "metadata": {
    "execution": {
     "iopub.execute_input": "2022-07-18T20:47:28.287401Z",
     "iopub.status.busy": "2022-07-18T20:47:28.286174Z",
     "iopub.status.idle": "2022-07-18T20:47:28.298304Z",
     "shell.execute_reply": "2022-07-18T20:47:28.296658Z",
     "shell.execute_reply.started": "2022-07-18T20:47:28.287346Z"
    }
   },
   "outputs": [],
   "source": [
    "enc = LabelEncoder()\n",
    "df['Adaptivity Level'] = enc.fit_transform(df['Adaptivity Level'])"
   ]
  },
  {
   "cell_type": "code",
   "execution_count": 41,
   "metadata": {
    "execution": {
     "iopub.execute_input": "2022-07-18T20:47:28.314853Z",
     "iopub.status.busy": "2022-07-18T20:47:28.313928Z",
     "iopub.status.idle": "2022-07-18T20:47:28.336298Z",
     "shell.execute_reply": "2022-07-18T20:47:28.333884Z",
     "shell.execute_reply.started": "2022-07-18T20:47:28.314813Z"
    }
   },
   "outputs": [
    {
     "data": {
      "text/html": [
       "<div>\n",
       "<style scoped>\n",
       "    .dataframe tbody tr th:only-of-type {\n",
       "        vertical-align: middle;\n",
       "    }\n",
       "\n",
       "    .dataframe tbody tr th {\n",
       "        vertical-align: top;\n",
       "    }\n",
       "\n",
       "    .dataframe thead th {\n",
       "        text-align: right;\n",
       "    }\n",
       "</style>\n",
       "<table border=\"1\" class=\"dataframe\">\n",
       "  <thead>\n",
       "    <tr style=\"text-align: right;\">\n",
       "      <th></th>\n",
       "      <th>Education Level</th>\n",
       "      <th>Institution Type</th>\n",
       "      <th>Financial Condition</th>\n",
       "      <th>Network Type</th>\n",
       "      <th>Class Duration</th>\n",
       "      <th>Device</th>\n",
       "      <th>Adaptivity Level</th>\n",
       "      <th>Age_new</th>\n",
       "      <th>Gender_Girl</th>\n",
       "      <th>IT Student_Yes</th>\n",
       "      <th>Location_Yes</th>\n",
       "      <th>Load-shedding_Low</th>\n",
       "      <th>Internet Type_Wifi</th>\n",
       "      <th>Self Lms_Yes</th>\n",
       "    </tr>\n",
       "  </thead>\n",
       "  <tbody>\n",
       "    <tr>\n",
       "      <th>0</th>\n",
       "      <td>3</td>\n",
       "      <td>1</td>\n",
       "      <td>2</td>\n",
       "      <td>3</td>\n",
       "      <td>0</td>\n",
       "      <td>1</td>\n",
       "      <td>2</td>\n",
       "      <td>23.0</td>\n",
       "      <td>0</td>\n",
       "      <td>0</td>\n",
       "      <td>1</td>\n",
       "      <td>1</td>\n",
       "      <td>1</td>\n",
       "      <td>0</td>\n",
       "    </tr>\n",
       "    <tr>\n",
       "      <th>1</th>\n",
       "      <td>3</td>\n",
       "      <td>1</td>\n",
       "      <td>2</td>\n",
       "      <td>3</td>\n",
       "      <td>1</td>\n",
       "      <td>2</td>\n",
       "      <td>2</td>\n",
       "      <td>23.0</td>\n",
       "      <td>1</td>\n",
       "      <td>0</td>\n",
       "      <td>1</td>\n",
       "      <td>0</td>\n",
       "      <td>0</td>\n",
       "      <td>1</td>\n",
       "    </tr>\n",
       "    <tr>\n",
       "      <th>2</th>\n",
       "      <td>2</td>\n",
       "      <td>0</td>\n",
       "      <td>2</td>\n",
       "      <td>3</td>\n",
       "      <td>1</td>\n",
       "      <td>2</td>\n",
       "      <td>2</td>\n",
       "      <td>18.0</td>\n",
       "      <td>1</td>\n",
       "      <td>0</td>\n",
       "      <td>1</td>\n",
       "      <td>1</td>\n",
       "      <td>1</td>\n",
       "      <td>0</td>\n",
       "    </tr>\n",
       "    <tr>\n",
       "      <th>3</th>\n",
       "      <td>1</td>\n",
       "      <td>1</td>\n",
       "      <td>2</td>\n",
       "      <td>3</td>\n",
       "      <td>1</td>\n",
       "      <td>2</td>\n",
       "      <td>2</td>\n",
       "      <td>13.0</td>\n",
       "      <td>1</td>\n",
       "      <td>0</td>\n",
       "      <td>1</td>\n",
       "      <td>1</td>\n",
       "      <td>0</td>\n",
       "      <td>0</td>\n",
       "    </tr>\n",
       "    <tr>\n",
       "      <th>4</th>\n",
       "      <td>1</td>\n",
       "      <td>1</td>\n",
       "      <td>1</td>\n",
       "      <td>2</td>\n",
       "      <td>2</td>\n",
       "      <td>2</td>\n",
       "      <td>1</td>\n",
       "      <td>18.0</td>\n",
       "      <td>1</td>\n",
       "      <td>0</td>\n",
       "      <td>1</td>\n",
       "      <td>1</td>\n",
       "      <td>0</td>\n",
       "      <td>0</td>\n",
       "    </tr>\n",
       "    <tr>\n",
       "      <th>5</th>\n",
       "      <td>1</td>\n",
       "      <td>1</td>\n",
       "      <td>1</td>\n",
       "      <td>2</td>\n",
       "      <td>1</td>\n",
       "      <td>2</td>\n",
       "      <td>1</td>\n",
       "      <td>13.0</td>\n",
       "      <td>0</td>\n",
       "      <td>0</td>\n",
       "      <td>1</td>\n",
       "      <td>1</td>\n",
       "      <td>0</td>\n",
       "      <td>0</td>\n",
       "    </tr>\n",
       "    <tr>\n",
       "      <th>6</th>\n",
       "      <td>1</td>\n",
       "      <td>1</td>\n",
       "      <td>2</td>\n",
       "      <td>3</td>\n",
       "      <td>2</td>\n",
       "      <td>2</td>\n",
       "      <td>1</td>\n",
       "      <td>13.0</td>\n",
       "      <td>0</td>\n",
       "      <td>0</td>\n",
       "      <td>1</td>\n",
       "      <td>1</td>\n",
       "      <td>1</td>\n",
       "      <td>0</td>\n",
       "    </tr>\n",
       "    <tr>\n",
       "      <th>7</th>\n",
       "      <td>1</td>\n",
       "      <td>1</td>\n",
       "      <td>2</td>\n",
       "      <td>3</td>\n",
       "      <td>1</td>\n",
       "      <td>2</td>\n",
       "      <td>2</td>\n",
       "      <td>13.0</td>\n",
       "      <td>0</td>\n",
       "      <td>0</td>\n",
       "      <td>1</td>\n",
       "      <td>1</td>\n",
       "      <td>1</td>\n",
       "      <td>0</td>\n",
       "    </tr>\n",
       "    <tr>\n",
       "      <th>8</th>\n",
       "      <td>2</td>\n",
       "      <td>0</td>\n",
       "      <td>2</td>\n",
       "      <td>3</td>\n",
       "      <td>1</td>\n",
       "      <td>2</td>\n",
       "      <td>1</td>\n",
       "      <td>18.0</td>\n",
       "      <td>0</td>\n",
       "      <td>0</td>\n",
       "      <td>1</td>\n",
       "      <td>1</td>\n",
       "      <td>1</td>\n",
       "      <td>0</td>\n",
       "    </tr>\n",
       "    <tr>\n",
       "      <th>9</th>\n",
       "      <td>1</td>\n",
       "      <td>1</td>\n",
       "      <td>2</td>\n",
       "      <td>2</td>\n",
       "      <td>1</td>\n",
       "      <td>2</td>\n",
       "      <td>2</td>\n",
       "      <td>13.0</td>\n",
       "      <td>0</td>\n",
       "      <td>0</td>\n",
       "      <td>1</td>\n",
       "      <td>1</td>\n",
       "      <td>0</td>\n",
       "      <td>0</td>\n",
       "    </tr>\n",
       "    <tr>\n",
       "      <th>10</th>\n",
       "      <td>3</td>\n",
       "      <td>0</td>\n",
       "      <td>2</td>\n",
       "      <td>3</td>\n",
       "      <td>1</td>\n",
       "      <td>2</td>\n",
       "      <td>1</td>\n",
       "      <td>18.0</td>\n",
       "      <td>1</td>\n",
       "      <td>0</td>\n",
       "      <td>1</td>\n",
       "      <td>1</td>\n",
       "      <td>1</td>\n",
       "      <td>0</td>\n",
       "    </tr>\n",
       "    <tr>\n",
       "      <th>11</th>\n",
       "      <td>2</td>\n",
       "      <td>1</td>\n",
       "      <td>2</td>\n",
       "      <td>3</td>\n",
       "      <td>1</td>\n",
       "      <td>2</td>\n",
       "      <td>1</td>\n",
       "      <td>18.0</td>\n",
       "      <td>1</td>\n",
       "      <td>0</td>\n",
       "      <td>1</td>\n",
       "      <td>1</td>\n",
       "      <td>1</td>\n",
       "      <td>0</td>\n",
       "    </tr>\n",
       "    <tr>\n",
       "      <th>12</th>\n",
       "      <td>1</td>\n",
       "      <td>1</td>\n",
       "      <td>2</td>\n",
       "      <td>2</td>\n",
       "      <td>1</td>\n",
       "      <td>2</td>\n",
       "      <td>2</td>\n",
       "      <td>13.0</td>\n",
       "      <td>0</td>\n",
       "      <td>1</td>\n",
       "      <td>1</td>\n",
       "      <td>1</td>\n",
       "      <td>0</td>\n",
       "      <td>0</td>\n",
       "    </tr>\n",
       "    <tr>\n",
       "      <th>13</th>\n",
       "      <td>2</td>\n",
       "      <td>1</td>\n",
       "      <td>2</td>\n",
       "      <td>3</td>\n",
       "      <td>1</td>\n",
       "      <td>2</td>\n",
       "      <td>1</td>\n",
       "      <td>18.0</td>\n",
       "      <td>1</td>\n",
       "      <td>0</td>\n",
       "      <td>0</td>\n",
       "      <td>1</td>\n",
       "      <td>1</td>\n",
       "      <td>0</td>\n",
       "    </tr>\n",
       "    <tr>\n",
       "      <th>14</th>\n",
       "      <td>1</td>\n",
       "      <td>1</td>\n",
       "      <td>1</td>\n",
       "      <td>2</td>\n",
       "      <td>1</td>\n",
       "      <td>2</td>\n",
       "      <td>2</td>\n",
       "      <td>13.0</td>\n",
       "      <td>1</td>\n",
       "      <td>0</td>\n",
       "      <td>1</td>\n",
       "      <td>1</td>\n",
       "      <td>0</td>\n",
       "      <td>0</td>\n",
       "    </tr>\n",
       "    <tr>\n",
       "      <th>15</th>\n",
       "      <td>1</td>\n",
       "      <td>1</td>\n",
       "      <td>1</td>\n",
       "      <td>3</td>\n",
       "      <td>1</td>\n",
       "      <td>2</td>\n",
       "      <td>1</td>\n",
       "      <td>13.0</td>\n",
       "      <td>0</td>\n",
       "      <td>0</td>\n",
       "      <td>1</td>\n",
       "      <td>0</td>\n",
       "      <td>1</td>\n",
       "      <td>0</td>\n",
       "    </tr>\n",
       "    <tr>\n",
       "      <th>16</th>\n",
       "      <td>3</td>\n",
       "      <td>0</td>\n",
       "      <td>1</td>\n",
       "      <td>3</td>\n",
       "      <td>2</td>\n",
       "      <td>3</td>\n",
       "      <td>1</td>\n",
       "      <td>28.0</td>\n",
       "      <td>1</td>\n",
       "      <td>1</td>\n",
       "      <td>1</td>\n",
       "      <td>1</td>\n",
       "      <td>0</td>\n",
       "      <td>0</td>\n",
       "    </tr>\n",
       "    <tr>\n",
       "      <th>17</th>\n",
       "      <td>3</td>\n",
       "      <td>0</td>\n",
       "      <td>2</td>\n",
       "      <td>3</td>\n",
       "      <td>1</td>\n",
       "      <td>2</td>\n",
       "      <td>1</td>\n",
       "      <td>23.0</td>\n",
       "      <td>1</td>\n",
       "      <td>0</td>\n",
       "      <td>0</td>\n",
       "      <td>1</td>\n",
       "      <td>1</td>\n",
       "      <td>0</td>\n",
       "    </tr>\n",
       "    <tr>\n",
       "      <th>18</th>\n",
       "      <td>2</td>\n",
       "      <td>1</td>\n",
       "      <td>2</td>\n",
       "      <td>3</td>\n",
       "      <td>1</td>\n",
       "      <td>2</td>\n",
       "      <td>1</td>\n",
       "      <td>18.0</td>\n",
       "      <td>1</td>\n",
       "      <td>0</td>\n",
       "      <td>1</td>\n",
       "      <td>0</td>\n",
       "      <td>1</td>\n",
       "      <td>0</td>\n",
       "    </tr>\n",
       "    <tr>\n",
       "      <th>19</th>\n",
       "      <td>2</td>\n",
       "      <td>1</td>\n",
       "      <td>2</td>\n",
       "      <td>3</td>\n",
       "      <td>0</td>\n",
       "      <td>2</td>\n",
       "      <td>2</td>\n",
       "      <td>18.0</td>\n",
       "      <td>1</td>\n",
       "      <td>0</td>\n",
       "      <td>1</td>\n",
       "      <td>0</td>\n",
       "      <td>1</td>\n",
       "      <td>0</td>\n",
       "    </tr>\n",
       "    <tr>\n",
       "      <th>20</th>\n",
       "      <td>1</td>\n",
       "      <td>1</td>\n",
       "      <td>3</td>\n",
       "      <td>3</td>\n",
       "      <td>1</td>\n",
       "      <td>2</td>\n",
       "      <td>0</td>\n",
       "      <td>8.0</td>\n",
       "      <td>1</td>\n",
       "      <td>0</td>\n",
       "      <td>1</td>\n",
       "      <td>1</td>\n",
       "      <td>1</td>\n",
       "      <td>0</td>\n",
       "    </tr>\n",
       "    <tr>\n",
       "      <th>21</th>\n",
       "      <td>1</td>\n",
       "      <td>0</td>\n",
       "      <td>2</td>\n",
       "      <td>3</td>\n",
       "      <td>2</td>\n",
       "      <td>2</td>\n",
       "      <td>1</td>\n",
       "      <td>8.0</td>\n",
       "      <td>0</td>\n",
       "      <td>0</td>\n",
       "      <td>1</td>\n",
       "      <td>1</td>\n",
       "      <td>0</td>\n",
       "      <td>0</td>\n",
       "    </tr>\n",
       "    <tr>\n",
       "      <th>22</th>\n",
       "      <td>2</td>\n",
       "      <td>1</td>\n",
       "      <td>2</td>\n",
       "      <td>2</td>\n",
       "      <td>0</td>\n",
       "      <td>2</td>\n",
       "      <td>1</td>\n",
       "      <td>18.0</td>\n",
       "      <td>1</td>\n",
       "      <td>0</td>\n",
       "      <td>0</td>\n",
       "      <td>1</td>\n",
       "      <td>0</td>\n",
       "      <td>1</td>\n",
       "    </tr>\n",
       "    <tr>\n",
       "      <th>23</th>\n",
       "      <td>1</td>\n",
       "      <td>1</td>\n",
       "      <td>2</td>\n",
       "      <td>2</td>\n",
       "      <td>1</td>\n",
       "      <td>2</td>\n",
       "      <td>2</td>\n",
       "      <td>13.0</td>\n",
       "      <td>1</td>\n",
       "      <td>0</td>\n",
       "      <td>1</td>\n",
       "      <td>1</td>\n",
       "      <td>0</td>\n",
       "      <td>0</td>\n",
       "    </tr>\n",
       "    <tr>\n",
       "      <th>24</th>\n",
       "      <td>2</td>\n",
       "      <td>0</td>\n",
       "      <td>2</td>\n",
       "      <td>3</td>\n",
       "      <td>0</td>\n",
       "      <td>2</td>\n",
       "      <td>2</td>\n",
       "      <td>18.0</td>\n",
       "      <td>0</td>\n",
       "      <td>0</td>\n",
       "      <td>1</td>\n",
       "      <td>1</td>\n",
       "      <td>1</td>\n",
       "      <td>0</td>\n",
       "    </tr>\n",
       "    <tr>\n",
       "      <th>25</th>\n",
       "      <td>1</td>\n",
       "      <td>1</td>\n",
       "      <td>2</td>\n",
       "      <td>3</td>\n",
       "      <td>1</td>\n",
       "      <td>2</td>\n",
       "      <td>2</td>\n",
       "      <td>13.0</td>\n",
       "      <td>0</td>\n",
       "      <td>0</td>\n",
       "      <td>1</td>\n",
       "      <td>1</td>\n",
       "      <td>0</td>\n",
       "      <td>0</td>\n",
       "    </tr>\n",
       "    <tr>\n",
       "      <th>26</th>\n",
       "      <td>1</td>\n",
       "      <td>1</td>\n",
       "      <td>2</td>\n",
       "      <td>3</td>\n",
       "      <td>1</td>\n",
       "      <td>2</td>\n",
       "      <td>2</td>\n",
       "      <td>3.0</td>\n",
       "      <td>1</td>\n",
       "      <td>0</td>\n",
       "      <td>1</td>\n",
       "      <td>1</td>\n",
       "      <td>0</td>\n",
       "      <td>0</td>\n",
       "    </tr>\n",
       "    <tr>\n",
       "      <th>27</th>\n",
       "      <td>3</td>\n",
       "      <td>1</td>\n",
       "      <td>2</td>\n",
       "      <td>3</td>\n",
       "      <td>0</td>\n",
       "      <td>3</td>\n",
       "      <td>2</td>\n",
       "      <td>28.0</td>\n",
       "      <td>0</td>\n",
       "      <td>1</td>\n",
       "      <td>1</td>\n",
       "      <td>1</td>\n",
       "      <td>1</td>\n",
       "      <td>0</td>\n",
       "    </tr>\n",
       "    <tr>\n",
       "      <th>28</th>\n",
       "      <td>1</td>\n",
       "      <td>1</td>\n",
       "      <td>2</td>\n",
       "      <td>3</td>\n",
       "      <td>1</td>\n",
       "      <td>2</td>\n",
       "      <td>2</td>\n",
       "      <td>3.0</td>\n",
       "      <td>1</td>\n",
       "      <td>0</td>\n",
       "      <td>1</td>\n",
       "      <td>1</td>\n",
       "      <td>0</td>\n",
       "      <td>0</td>\n",
       "    </tr>\n",
       "    <tr>\n",
       "      <th>29</th>\n",
       "      <td>2</td>\n",
       "      <td>1</td>\n",
       "      <td>2</td>\n",
       "      <td>3</td>\n",
       "      <td>0</td>\n",
       "      <td>2</td>\n",
       "      <td>2</td>\n",
       "      <td>18.0</td>\n",
       "      <td>1</td>\n",
       "      <td>0</td>\n",
       "      <td>1</td>\n",
       "      <td>0</td>\n",
       "      <td>1</td>\n",
       "      <td>0</td>\n",
       "    </tr>\n",
       "  </tbody>\n",
       "</table>\n",
       "</div>"
      ],
      "text/plain": [
       "   Education Level Institution Type Financial Condition Network Type  \\\n",
       "0                3                1                   2            3   \n",
       "1                3                1                   2            3   \n",
       "2                2                0                   2            3   \n",
       "3                1                1                   2            3   \n",
       "4                1                1                   1            2   \n",
       "5                1                1                   1            2   \n",
       "6                1                1                   2            3   \n",
       "7                1                1                   2            3   \n",
       "8                2                0                   2            3   \n",
       "9                1                1                   2            2   \n",
       "10               3                0                   2            3   \n",
       "11               2                1                   2            3   \n",
       "12               1                1                   2            2   \n",
       "13               2                1                   2            3   \n",
       "14               1                1                   1            2   \n",
       "15               1                1                   1            3   \n",
       "16               3                0                   1            3   \n",
       "17               3                0                   2            3   \n",
       "18               2                1                   2            3   \n",
       "19               2                1                   2            3   \n",
       "20               1                1                   3            3   \n",
       "21               1                0                   2            3   \n",
       "22               2                1                   2            2   \n",
       "23               1                1                   2            2   \n",
       "24               2                0                   2            3   \n",
       "25               1                1                   2            3   \n",
       "26               1                1                   2            3   \n",
       "27               3                1                   2            3   \n",
       "28               1                1                   2            3   \n",
       "29               2                1                   2            3   \n",
       "\n",
       "   Class Duration Device  Adaptivity Level  Age_new  Gender_Girl  \\\n",
       "0               0      1                 2     23.0            0   \n",
       "1               1      2                 2     23.0            1   \n",
       "2               1      2                 2     18.0            1   \n",
       "3               1      2                 2     13.0            1   \n",
       "4               2      2                 1     18.0            1   \n",
       "5               1      2                 1     13.0            0   \n",
       "6               2      2                 1     13.0            0   \n",
       "7               1      2                 2     13.0            0   \n",
       "8               1      2                 1     18.0            0   \n",
       "9               1      2                 2     13.0            0   \n",
       "10              1      2                 1     18.0            1   \n",
       "11              1      2                 1     18.0            1   \n",
       "12              1      2                 2     13.0            0   \n",
       "13              1      2                 1     18.0            1   \n",
       "14              1      2                 2     13.0            1   \n",
       "15              1      2                 1     13.0            0   \n",
       "16              2      3                 1     28.0            1   \n",
       "17              1      2                 1     23.0            1   \n",
       "18              1      2                 1     18.0            1   \n",
       "19              0      2                 2     18.0            1   \n",
       "20              1      2                 0      8.0            1   \n",
       "21              2      2                 1      8.0            0   \n",
       "22              0      2                 1     18.0            1   \n",
       "23              1      2                 2     13.0            1   \n",
       "24              0      2                 2     18.0            0   \n",
       "25              1      2                 2     13.0            0   \n",
       "26              1      2                 2      3.0            1   \n",
       "27              0      3                 2     28.0            0   \n",
       "28              1      2                 2      3.0            1   \n",
       "29              0      2                 2     18.0            1   \n",
       "\n",
       "    IT Student_Yes  Location_Yes  Load-shedding_Low  Internet Type_Wifi  \\\n",
       "0                0             1                  1                   1   \n",
       "1                0             1                  0                   0   \n",
       "2                0             1                  1                   1   \n",
       "3                0             1                  1                   0   \n",
       "4                0             1                  1                   0   \n",
       "5                0             1                  1                   0   \n",
       "6                0             1                  1                   1   \n",
       "7                0             1                  1                   1   \n",
       "8                0             1                  1                   1   \n",
       "9                0             1                  1                   0   \n",
       "10               0             1                  1                   1   \n",
       "11               0             1                  1                   1   \n",
       "12               1             1                  1                   0   \n",
       "13               0             0                  1                   1   \n",
       "14               0             1                  1                   0   \n",
       "15               0             1                  0                   1   \n",
       "16               1             1                  1                   0   \n",
       "17               0             0                  1                   1   \n",
       "18               0             1                  0                   1   \n",
       "19               0             1                  0                   1   \n",
       "20               0             1                  1                   1   \n",
       "21               0             1                  1                   0   \n",
       "22               0             0                  1                   0   \n",
       "23               0             1                  1                   0   \n",
       "24               0             1                  1                   1   \n",
       "25               0             1                  1                   0   \n",
       "26               0             1                  1                   0   \n",
       "27               1             1                  1                   1   \n",
       "28               0             1                  1                   0   \n",
       "29               0             1                  0                   1   \n",
       "\n",
       "    Self Lms_Yes  \n",
       "0              0  \n",
       "1              1  \n",
       "2              0  \n",
       "3              0  \n",
       "4              0  \n",
       "5              0  \n",
       "6              0  \n",
       "7              0  \n",
       "8              0  \n",
       "9              0  \n",
       "10             0  \n",
       "11             0  \n",
       "12             0  \n",
       "13             0  \n",
       "14             0  \n",
       "15             0  \n",
       "16             0  \n",
       "17             0  \n",
       "18             0  \n",
       "19             0  \n",
       "20             0  \n",
       "21             0  \n",
       "22             1  \n",
       "23             0  \n",
       "24             0  \n",
       "25             0  \n",
       "26             0  \n",
       "27             0  \n",
       "28             0  \n",
       "29             0  "
      ]
     },
     "execution_count": 41,
     "metadata": {},
     "output_type": "execute_result"
    }
   ],
   "source": [
    "df.head(30)"
   ]
  },
  {
   "cell_type": "code",
   "execution_count": 42,
   "metadata": {
    "execution": {
     "iopub.execute_input": "2022-07-18T20:47:28.341049Z",
     "iopub.status.busy": "2022-07-18T20:47:28.340232Z",
     "iopub.status.idle": "2022-07-18T20:47:28.350946Z",
     "shell.execute_reply": "2022-07-18T20:47:28.349392Z",
     "shell.execute_reply.started": "2022-07-18T20:47:28.341005Z"
    }
   },
   "outputs": [],
   "source": [
    "# assign X and y\n",
    "X = df.drop('Adaptivity Level', axis=1)\n",
    "y = df['Adaptivity Level']"
   ]
  },
  {
   "cell_type": "code",
   "execution_count": 43,
   "metadata": {
    "execution": {
     "iopub.execute_input": "2022-07-18T20:47:28.353558Z",
     "iopub.status.busy": "2022-07-18T20:47:28.352628Z",
     "iopub.status.idle": "2022-07-18T20:47:28.364871Z",
     "shell.execute_reply": "2022-07-18T20:47:28.363539Z",
     "shell.execute_reply.started": "2022-07-18T20:47:28.353508Z"
    }
   },
   "outputs": [
    {
     "data": {
      "text/plain": [
       "((1205, 13), (1205,))"
      ]
     },
     "execution_count": 43,
     "metadata": {},
     "output_type": "execute_result"
    }
   ],
   "source": [
    "X.shape, y.shape"
   ]
  },
  {
   "cell_type": "markdown",
   "metadata": {},
   "source": [
    "# Machine Learning (Imbalanced Dataset)"
   ]
  },
  {
   "cell_type": "markdown",
   "metadata": {},
   "source": [
    "### Split Data Into Train and Test Splits"
   ]
  },
  {
   "cell_type": "code",
   "execution_count": 44,
   "metadata": {
    "execution": {
     "iopub.execute_input": "2022-07-18T20:47:28.367998Z",
     "iopub.status.busy": "2022-07-18T20:47:28.366749Z",
     "iopub.status.idle": "2022-07-18T20:47:28.379984Z",
     "shell.execute_reply": "2022-07-18T20:47:28.378910Z",
     "shell.execute_reply.started": "2022-07-18T20:47:28.367948Z"
    }
   },
   "outputs": [],
   "source": [
    "X_train, X_test, y_train, y_test = train_test_split(X, y, test_size=0.2, stratify=y, random_state=42)"
   ]
  },
  {
   "cell_type": "code",
   "execution_count": 45,
   "metadata": {
    "execution": {
     "iopub.execute_input": "2022-07-18T20:47:28.383595Z",
     "iopub.status.busy": "2022-07-18T20:47:28.381932Z",
     "iopub.status.idle": "2022-07-18T20:47:28.393157Z",
     "shell.execute_reply": "2022-07-18T20:47:28.391810Z",
     "shell.execute_reply.started": "2022-07-18T20:47:28.383540Z"
    }
   },
   "outputs": [
    {
     "data": {
      "text/plain": [
       "((964, 13), (241,))"
      ]
     },
     "execution_count": 45,
     "metadata": {},
     "output_type": "execute_result"
    }
   ],
   "source": [
    "X_train.shape, y_test.shape"
   ]
  },
  {
   "cell_type": "markdown",
   "metadata": {},
   "source": [
    "### Fit Data on Different Machine Learning Algorithm (Imbalanced Data)"
   ]
  },
  {
   "cell_type": "code",
   "execution_count": 46,
   "metadata": {
    "execution": {
     "iopub.execute_input": "2022-07-18T20:47:28.395814Z",
     "iopub.status.busy": "2022-07-18T20:47:28.394828Z",
     "iopub.status.idle": "2022-07-18T20:47:28.950442Z",
     "shell.execute_reply": "2022-07-18T20:47:28.949286Z",
     "shell.execute_reply.started": "2022-07-18T20:47:28.395778Z"
    }
   },
   "outputs": [],
   "source": [
    "# importing models and metrics \n",
    "from sklearn.svm import SVC\n",
    "from xgboost import XGBClassifier\n",
    "from sklearn.tree import DecisionTreeClassifier\n",
    "from sklearn.linear_model import LogisticRegression\n",
    "from sklearn.ensemble import RandomForestClassifier\n",
    "from sklearn.neighbors import KNeighborsClassifier\n",
    "from sklearn.metrics import accuracy_score, f1_score, confusion_matrix, auc, roc_auc_score, roc_curve"
   ]
  },
  {
   "cell_type": "code",
   "execution_count": 47,
   "metadata": {
    "execution": {
     "iopub.execute_input": "2022-07-18T20:47:28.952057Z",
     "iopub.status.busy": "2022-07-18T20:47:28.951716Z",
     "iopub.status.idle": "2022-07-18T20:47:28.959189Z",
     "shell.execute_reply": "2022-07-18T20:47:28.957913Z",
     "shell.execute_reply.started": "2022-07-18T20:47:28.952019Z"
    }
   },
   "outputs": [],
   "source": [
    "models = {\n",
    "    'Logistic Regression':  LogisticRegression(max_iter=1000),\n",
    "    'Decision Tree': DecisionTreeClassifier(random_state=42,),\n",
    "    'KNN': KNeighborsClassifier(),\n",
    "    'Random Forest': RandomForestClassifier(random_state=0, n_jobs=-1),\n",
    "    'SVC': SVC(random_state=2022, probability=True),\n",
    "    'XGBoost': XGBClassifier(random_state=20, tree_method=\"hist\", enable_categorical=True)}"
   ]
  },
  {
   "cell_type": "code",
   "execution_count": 48,
   "metadata": {
    "execution": {
     "iopub.execute_input": "2022-07-18T20:47:28.961870Z",
     "iopub.status.busy": "2022-07-18T20:47:28.961050Z",
     "iopub.status.idle": "2022-07-18T20:47:28.973153Z",
     "shell.execute_reply": "2022-07-18T20:47:28.971993Z",
     "shell.execute_reply.started": "2022-07-18T20:47:28.961822Z"
    }
   },
   "outputs": [],
   "source": [
    "accuracies, f_scores, cf_matrixes, roc_auc_scores = [], [], [], []"
   ]
  },
  {
   "cell_type": "code",
   "execution_count": 49,
   "metadata": {
    "execution": {
     "iopub.execute_input": "2022-07-18T20:47:28.975667Z",
     "iopub.status.busy": "2022-07-18T20:47:28.974935Z",
     "iopub.status.idle": "2022-07-18T20:47:28.990140Z",
     "shell.execute_reply": "2022-07-18T20:47:28.989182Z",
     "shell.execute_reply.started": "2022-07-18T20:47:28.975621Z"
    }
   },
   "outputs": [],
   "source": [
    "cf_matrixes = []"
   ]
  },
  {
   "cell_type": "code",
   "execution_count": 50,
   "metadata": {
    "execution": {
     "iopub.execute_input": "2022-07-18T20:47:28.992754Z",
     "iopub.status.busy": "2022-07-18T20:47:28.991679Z",
     "iopub.status.idle": "2022-07-18T20:47:29.004584Z",
     "shell.execute_reply": "2022-07-18T20:47:29.003520Z",
     "shell.execute_reply.started": "2022-07-18T20:47:28.992704Z"
    }
   },
   "outputs": [],
   "source": [
    "def create_result_df(model_name, model, X_test, y_test):\n",
    "    '''\n",
    "    function to create pandas dataframe containing metric results on test data\n",
    "    \n",
    "    args:\n",
    "        model_name: Name of trained model\n",
    "        \n",
    "        model: trained machine learning model\n",
    "        \n",
    "        X_test: dataset for the model to be tested on\n",
    "        \n",
    "        y_test: the correct label for the test dataset\n",
    "        \n",
    "    returns:\n",
    "        res_df: pandas dataframe containing metric results on test data\n",
    "    '''\n",
    "    \n",
    "    # generate prediction on test data\n",
    "    preds = model.predict(X_test)\n",
    "    cont_preds = model.predict_proba(X_test)\n",
    "    \n",
    "    res_df = pd.DataFrame()\n",
    "    res_df['Model_Name'] = [ model_name ]\n",
    "    res_df['Test_Accuracy'] = [ accuracy_score(y_test, preds) ]\n",
    "    res_df['F1_Score'] = [ f1_score(y_test, preds, average='weighted') ]\n",
    "    res_df['ROC_AUC'] = [ roc_auc_score(y_test, cont_preds, multi_class='ovr') ]\n",
    "    cf_matrix = confusion_matrix(y_test, preds)\n",
    "\n",
    "    return res_df, cf_matrix"
   ]
  },
  {
   "cell_type": "code",
   "execution_count": 51,
   "metadata": {
    "execution": {
     "iopub.execute_input": "2022-07-18T20:47:29.006542Z",
     "iopub.status.busy": "2022-07-18T20:47:29.006203Z",
     "iopub.status.idle": "2022-07-18T20:47:30.718606Z",
     "shell.execute_reply": "2022-07-18T20:47:30.717563Z",
     "shell.execute_reply.started": "2022-07-18T20:47:29.006508Z"
    }
   },
   "outputs": [
    {
     "name": "stdout",
     "output_type": "stream",
     "text": [
      "Currently Training: Logistic Regression Model\n",
      "Currently Training: Decision Tree Model\n",
      "Currently Training: KNN Model\n",
      "Currently Training: Random Forest Model\n",
      "Currently Training: SVC Model\n",
      "Currently Training: XGBoost Model\n"
     ]
    }
   ],
   "source": [
    "eval_df = []\n",
    "\n",
    "# Iterate through the defined models in dictionary \n",
    "for name, model in models.items():\n",
    "    print('Currently Training: {} Model'.format(name))\n",
    "    model.fit(X_train, y_train)\n",
    "    \n",
    "    res_df,cf_matrix = create_result_df(name, model, X_test, y_test)\n",
    "    cf_matrixes.append(cf_matrix)\n",
    "    eval_df.append(res_df)\n",
    "    \n",
    "    del res_df, cf_matrix, model"
   ]
  },
  {
   "cell_type": "code",
   "execution_count": 52,
   "metadata": {
    "execution": {
     "iopub.execute_input": "2022-07-18T20:47:30.725194Z",
     "iopub.status.busy": "2022-07-18T20:47:30.723482Z",
     "iopub.status.idle": "2022-07-18T20:47:30.740263Z",
     "shell.execute_reply": "2022-07-18T20:47:30.739017Z",
     "shell.execute_reply.started": "2022-07-18T20:47:30.725153Z"
    }
   },
   "outputs": [
    {
     "data": {
      "text/html": [
       "<div>\n",
       "<style scoped>\n",
       "    .dataframe tbody tr th:only-of-type {\n",
       "        vertical-align: middle;\n",
       "    }\n",
       "\n",
       "    .dataframe tbody tr th {\n",
       "        vertical-align: top;\n",
       "    }\n",
       "\n",
       "    .dataframe thead th {\n",
       "        text-align: right;\n",
       "    }\n",
       "</style>\n",
       "<table border=\"1\" class=\"dataframe\">\n",
       "  <thead>\n",
       "    <tr style=\"text-align: right;\">\n",
       "      <th></th>\n",
       "      <th>Test_Accuracy</th>\n",
       "      <th>F1_Score</th>\n",
       "      <th>ROC_AUC</th>\n",
       "    </tr>\n",
       "    <tr>\n",
       "      <th>Model_Name</th>\n",
       "      <th></th>\n",
       "      <th></th>\n",
       "      <th></th>\n",
       "    </tr>\n",
       "  </thead>\n",
       "  <tbody>\n",
       "    <tr>\n",
       "      <th>Logistic Regression</th>\n",
       "      <td>0.721992</td>\n",
       "      <td>0.690257</td>\n",
       "      <td>0.789455</td>\n",
       "    </tr>\n",
       "    <tr>\n",
       "      <th>Decision Tree</th>\n",
       "      <td>0.925311</td>\n",
       "      <td>0.924919</td>\n",
       "      <td>0.980680</td>\n",
       "    </tr>\n",
       "    <tr>\n",
       "      <th>KNN</th>\n",
       "      <td>0.755187</td>\n",
       "      <td>0.751760</td>\n",
       "      <td>0.927194</td>\n",
       "    </tr>\n",
       "    <tr>\n",
       "      <th>Random Forest</th>\n",
       "      <td>0.908714</td>\n",
       "      <td>0.907475</td>\n",
       "      <td>0.986008</td>\n",
       "    </tr>\n",
       "    <tr>\n",
       "      <th>SVC</th>\n",
       "      <td>0.643154</td>\n",
       "      <td>0.595238</td>\n",
       "      <td>0.836578</td>\n",
       "    </tr>\n",
       "    <tr>\n",
       "      <th>XGBoost</th>\n",
       "      <td>0.917012</td>\n",
       "      <td>0.916268</td>\n",
       "      <td>0.987907</td>\n",
       "    </tr>\n",
       "  </tbody>\n",
       "</table>\n",
       "</div>"
      ],
      "text/plain": [
       "                     Test_Accuracy  F1_Score   ROC_AUC\n",
       "Model_Name                                            \n",
       "Logistic Regression       0.721992  0.690257  0.789455\n",
       "Decision Tree             0.925311  0.924919  0.980680\n",
       "KNN                       0.755187  0.751760  0.927194\n",
       "Random Forest             0.908714  0.907475  0.986008\n",
       "SVC                       0.643154  0.595238  0.836578\n",
       "XGBoost                   0.917012  0.916268  0.987907"
      ]
     },
     "execution_count": 52,
     "metadata": {},
     "output_type": "execute_result"
    }
   ],
   "source": [
    "eval_df = pd.concat(eval_df)\n",
    "eval_df.set_index('Model_Name', inplace=True)\n",
    "eval_df"
   ]
  },
  {
   "cell_type": "markdown",
   "metadata": {},
   "source": [
    "### Find the best model"
   ]
  },
  {
   "cell_type": "code",
   "execution_count": 53,
   "metadata": {
    "execution": {
     "iopub.execute_input": "2022-07-18T20:47:30.743524Z",
     "iopub.status.busy": "2022-07-18T20:47:30.743152Z",
     "iopub.status.idle": "2022-07-18T20:47:30.756407Z",
     "shell.execute_reply": "2022-07-18T20:47:30.754686Z",
     "shell.execute_reply.started": "2022-07-18T20:47:30.743492Z"
    }
   },
   "outputs": [
    {
     "data": {
      "text/plain": [
       "'Decision Tree'"
      ]
     },
     "execution_count": 53,
     "metadata": {},
     "output_type": "execute_result"
    }
   ],
   "source": [
    "# Using F1_score as metric to determine the best model on the test dataset\n",
    "\n",
    "eval_df['F1_Score'].idxmax() "
   ]
  },
  {
   "cell_type": "markdown",
   "metadata": {},
   "source": [
    "### Test Accuracy plot for the different models  (Imbalanced Data)"
   ]
  },
  {
   "cell_type": "code",
   "execution_count": 54,
   "metadata": {
    "execution": {
     "iopub.execute_input": "2022-07-18T20:47:30.759016Z",
     "iopub.status.busy": "2022-07-18T20:47:30.758207Z",
     "iopub.status.idle": "2022-07-18T20:47:31.469292Z",
     "shell.execute_reply": "2022-07-18T20:47:31.468227Z",
     "shell.execute_reply.started": "2022-07-18T20:47:30.758981Z"
    }
   },
   "outputs": [
    {
     "data": {
      "image/png": "[encoded data removed]",
      "text/plain": [
       "<Figure size 864x504 with 1 Axes>"
      ]
     },
     "metadata": {
      "needs_background": "light"
     },
     "output_type": "display_data"
    }
   ],
   "source": [
    "fig, ax = plt.subplots(figsize=(12,7))\n",
    "eval_df['Test_Accuracy'].sort_values().plot(kind='bar', ax=ax)\n",
    "plt.ylim(0.3,1.01)\n",
    "plt.ylabel('Accuracy')\n",
    "plt.title('Test accuracy score (Imbalanced Data)'.title())\n",
    "plt.xticks(rotation=0)\n",
    "plt.savefig('accuracy_imbalanced_plot.png' ,dpi=300)\n",
    "plt.show()"
   ]
  },
  {
   "cell_type": "markdown",
   "metadata": {},
   "source": [
    "Decision tree classifier is able to produce the best accuracy score on the test data"
   ]
  },
  {
   "cell_type": "markdown",
   "metadata": {},
   "source": [
    "\n",
    "### Plot Confusion Matrix of Decison Tree Model"
   ]
  },
  {
   "cell_type": "code",
   "execution_count": 55,
   "metadata": {
    "execution": {
     "iopub.execute_input": "2022-07-18T20:47:31.471401Z",
     "iopub.status.busy": "2022-07-18T20:47:31.470924Z",
     "iopub.status.idle": "2022-07-18T20:47:31.480374Z",
     "shell.execute_reply": "2022-07-18T20:47:31.479104Z",
     "shell.execute_reply.started": "2022-07-18T20:47:31.471355Z"
    }
   },
   "outputs": [],
   "source": [
    "def plot_cf_matrix(cf_matrix, unique_labels, title='Confusion matrix'):\n",
    "    '''\n",
    "    function to make heatmap of confusion matrix\n",
    "\n",
    "    args:\n",
    "\n",
    "    cf_matrix: numpy array of confusion matrix values\n",
    "\n",
    "    unique_labels: unique label values present in data\n",
    "\n",
    "    '''\n",
    "\n",
    "    cm_df = pd.DataFrame(cf_matrix, index=unique_labels, columns=unique_labels)\n",
    "    fig, ax = plt.subplots(figsize=(9,7))\n",
    "\n",
    "    sns.heatmap(cm_df, annot=True, ax=ax, cmap=\"Blues\", fmt='.0f', cbar=False)\n",
    "    ax.set_xlabel('Predicted')\n",
    "    ax.set_ylabel('Truth')\n",
    "    ax.set_title(title)\n",
    "    plt.savefig('{}.png'.format(title) ,dpi=300)\n",
    "    plt.show()"
   ]
  },
  {
   "cell_type": "code",
   "execution_count": 56,
   "metadata": {
    "execution": {
     "iopub.execute_input": "2022-07-18T20:47:31.482792Z",
     "iopub.status.busy": "2022-07-18T20:47:31.481922Z",
     "iopub.status.idle": "2022-07-18T20:47:31.994482Z",
     "shell.execute_reply": "2022-07-18T20:47:31.993027Z",
     "shell.execute_reply.started": "2022-07-18T20:47:31.482757Z"
    }
   },
   "outputs": [
    {
     "data": {
      "image/png": "[encoded data removed]",
      "text/plain": [
       "<Figure size 648x504 with 1 Axes>"
      ]
     },
     "metadata": {
      "needs_background": "light"
     },
     "output_type": "display_data"
    }
   ],
   "source": [
    "plot_cf_matrix( cf_matrixes[ eval_df.index.to_list().index('Decision Tree') ], enc.inverse_transform(models['Decision Tree'].classes_), \n",
    "              title='Confusion Matrix (Decision Tree)')"
   ]
  },
  {
   "cell_type": "markdown",
   "metadata": {},
   "source": [
    "### ROC_AUC Curve of Decision Tree"
   ]
  },
  {
   "cell_type": "code",
   "execution_count": 57,
   "metadata": {
    "execution": {
     "iopub.execute_input": "2022-07-18T20:47:31.996997Z",
     "iopub.status.busy": "2022-07-18T20:47:31.996462Z",
     "iopub.status.idle": "2022-07-18T20:47:32.021644Z",
     "shell.execute_reply": "2022-07-18T20:47:32.019344Z",
     "shell.execute_reply.started": "2022-07-18T20:47:31.996948Z"
    }
   },
   "outputs": [],
   "source": [
    "def roc_curve_plot(model, title='Receiver Operating Characteristic'):\n",
    "    '''\n",
    "    function to make roc_curve \n",
    "    '''\n",
    "    \n",
    "    pred =  model.fit(X_train, y_train).predict_proba(X_test)\n",
    "    y_test_bin = label_binarize(y_test, classes=[0, 1, 2])\n",
    "    n_classes = len(np.unique(y_test))\n",
    "    \n",
    "    fpr, tpr, roc_auc = {}, {}, {}\n",
    "    colors = ['green', 'blue', 'red']\n",
    "    fig, ax = plt.subplots(figsize=(11,8))\n",
    "    \n",
    "    for i, class_name, color in zip( range(n_classes), enc.classes_, colors):\n",
    "        fpr[i], tpr[i], _ = roc_curve(y_test_bin[:, i], pred[:, i], )\n",
    "        roc_auc[i] = auc(fpr[i], tpr[i])\n",
    "        plt.plot(fpr[i], tpr[i], color=color,label='ROC curve of class {0} (area = {1:0.2f})'.format(class_name, roc_auc[i]))\n",
    "        plt.plot([0, 1], [0, 1], 'k--')\n",
    "\n",
    "        plt.title(title)\n",
    "        plt.xlim([-0.05, 1.0])\n",
    "        plt.ylim([0.0, 1.05])\n",
    "        plt.xlabel('False Positive Rate')\n",
    "        plt.ylabel('True Positive Rate')\n",
    "        plt.legend(loc=\"lower right\")\n",
    "\n",
    "    plt.savefig('{}.png'.format(title) ,dpi=300)\n",
    "    plt.show()\n",
    "    "
   ]
  },
  {
   "cell_type": "code",
   "execution_count": 58,
   "metadata": {
    "execution": {
     "iopub.execute_input": "2022-07-18T20:47:32.023817Z",
     "iopub.status.busy": "2022-07-18T20:47:32.023238Z",
     "iopub.status.idle": "2022-07-18T20:47:32.854017Z",
     "shell.execute_reply": "2022-07-18T20:47:32.853017Z",
     "shell.execute_reply.started": "2022-07-18T20:47:32.023762Z"
    }
   },
   "outputs": [
    {
     "data": {
      "image/png": "[encoded data removed]",
      "text/plain": [
       "<Figure size 792x576 with 1 Axes>"
      ]
     },
     "metadata": {
      "needs_background": "light"
     },
     "output_type": "display_data"
    }
   ],
   "source": [
    "roc_curve_plot(models['Decision Tree'], 'Receiver Operating Characteristic (Decision Tree)')"
   ]
  },
  {
   "cell_type": "markdown",
   "metadata": {},
   "source": [
    "### Analyse Feature Importance Of Decison Tree Model "
   ]
  },
  {
   "cell_type": "code",
   "execution_count": 59,
   "metadata": {
    "execution": {
     "iopub.execute_input": "2022-07-18T20:47:32.855549Z",
     "iopub.status.busy": "2022-07-18T20:47:32.855205Z",
     "iopub.status.idle": "2022-07-18T20:47:32.862128Z",
     "shell.execute_reply": "2022-07-18T20:47:32.861386Z",
     "shell.execute_reply.started": "2022-07-18T20:47:32.855520Z"
    }
   },
   "outputs": [],
   "source": [
    "# Create pandas dataframe to store feature importance of model\n",
    "\n",
    "dtc_imp = pd.DataFrame(index=models['Decision Tree'].feature_names_in_)\n",
    "dtc_imp['Importance'] = models['Decision Tree'].feature_importances_"
   ]
  },
  {
   "cell_type": "code",
   "execution_count": 60,
   "metadata": {
    "execution": {
     "iopub.execute_input": "2022-07-18T20:47:32.863890Z",
     "iopub.status.busy": "2022-07-18T20:47:32.863574Z",
     "iopub.status.idle": "2022-07-18T20:47:33.511837Z",
     "shell.execute_reply": "2022-07-18T20:47:33.510662Z",
     "shell.execute_reply.started": "2022-07-18T20:47:32.863861Z"
    }
   },
   "outputs": [
    {
     "data": {
      "image/png": "[encoded data removed]",
      "text/plain": [
       "<Figure size 864x576 with 1 Axes>"
      ]
     },
     "metadata": {
      "needs_background": "light"
     },
     "output_type": "display_data"
    }
   ],
   "source": [
    "fig, ax = plt.subplots(figsize=(12, 8))\n",
    "plt.title('Top 5 Most Importance Features Plot  (Decision Tree Model)')\n",
    "dtc_imp.sort_values('Importance')[-5:].plot(kind='bar', ax=ax)\n",
    "plt.xticks(rotation=0)\n",
    "plt.ylabel('Score')\n",
    "plt.savefig('feat_imp_DTC.png', dpi=300)\n",
    "plt.show()"
   ]
  },
  {
   "cell_type": "markdown",
   "metadata": {},
   "source": [
    "From the plot above, Class Duration is the feature that contributes the most to the Decision Tree model"
   ]
  },
  {
   "cell_type": "markdown",
   "metadata": {},
   "source": [
    "### HyperParameter Tuning (imbalanced Data)"
   ]
  },
  {
   "cell_type": "code",
   "execution_count": 61,
   "metadata": {
    "execution": {
     "iopub.execute_input": "2022-07-18T20:47:33.514608Z",
     "iopub.status.busy": "2022-07-18T20:47:33.513561Z",
     "iopub.status.idle": "2022-07-18T20:47:33.524226Z",
     "shell.execute_reply": "2022-07-18T20:47:33.523306Z",
     "shell.execute_reply.started": "2022-07-18T20:47:33.514561Z"
    }
   },
   "outputs": [],
   "source": [
    "model_params = {\n",
    "    'Logistic Regression': {'C': [0.01, 0.1, 1, 10, 100], 'max_iter': [1000, 2000]},\n",
    "    \n",
    "    'Decision Tree': {'max_depth': [3, 7, 15, 25, None], 'min_samples_split': [2, 3, 5]},\n",
    "    \n",
    "    'KNN': {'n_neighbors': range(1, 20, 2)},\n",
    "    \n",
    "    'Random Forest': {'n_estimators': [10, 50, 100, 300], 'max_depth': [2, 5, 8, 12, None], 'min_samples_split': [2, 3, 5]},\n",
    "    \n",
    "    'SVC': {'C': [0.01, 0.1, 1, 10, 100, 1000], 'kernel': ['linear', 'poly', 'rbf']},\n",
    "    \n",
    "    'XGBoost': {\"learning_rate\": [0.001, 0.10, 0.15,  0.3 ], \"max_depth\": [ 2, 6, 10, 15], \"min_child_weight\" : [ 1, 3, 5, 7 ]}}"
   ]
  },
  {
   "cell_type": "code",
   "execution_count": 62,
   "metadata": {
    "execution": {
     "iopub.execute_input": "2022-07-18T20:47:33.526471Z",
     "iopub.status.busy": "2022-07-18T20:47:33.525305Z",
     "iopub.status.idle": "2022-07-18T20:47:33.539094Z",
     "shell.execute_reply": "2022-07-18T20:47:33.538035Z",
     "shell.execute_reply.started": "2022-07-18T20:47:33.526425Z"
    }
   },
   "outputs": [],
   "source": [
    "def parameter_search(models_and_params:dict, features, target):\n",
    "    '''\n",
    "    function to perform hyperparameter tuninig on different machine learning models\n",
    "    \n",
    "    args:\n",
    "        models_and_params: dictionary containing name of model and a list of parameters to search as key, value pair.\n",
    "        \n",
    "        features: dataset containing independent features to fit models on \n",
    "        \n",
    "        target: attribute data to be predicted\n",
    "    \n",
    "    returns:\n",
    "        tuned_models: dictionary containing name of model and tuned machine learning models as key, value pair.\n",
    "        \n",
    "    '''\n",
    "    \n",
    "    tuned_models = {}\n",
    "    \n",
    "    for model_name, model_params in models_and_params.items(): \n",
    "        model_search = RandomizedSearchCV(models[model_name], model_params, cv=3, scoring='f1_weighted', random_state=0)\n",
    "        model_search.fit(features, target)\n",
    "        \n",
    "        print(\"{}, Tuned Hyperparameters : {} \\n\".format(model_name, model_search.best_params_))\n",
    "        tuned_models[model_name] = model_search.best_estimator_\n",
    "    \n",
    "    return tuned_models"
   ]
  },
  {
   "cell_type": "code",
   "execution_count": 63,
   "metadata": {
    "execution": {
     "iopub.execute_input": "2022-07-18T20:47:33.540915Z",
     "iopub.status.busy": "2022-07-18T20:47:33.540428Z",
     "iopub.status.idle": "2022-07-18T20:48:23.877188Z",
     "shell.execute_reply": "2022-07-18T20:48:23.876107Z",
     "shell.execute_reply.started": "2022-07-18T20:47:33.540886Z"
    }
   },
   "outputs": [
    {
     "name": "stdout",
     "output_type": "stream",
     "text": [
      "Logistic Regression, Tuned Hyperparameters : {'max_iter': 1000, 'C': 10} \n",
      "\n",
      "Decision Tree, Tuned Hyperparameters : {'min_samples_split': 2, 'max_depth': 15} \n",
      "\n",
      "KNN, Tuned Hyperparameters : {'n_neighbors': 1} \n",
      "\n",
      "Random Forest, Tuned Hyperparameters : {'n_estimators': 100, 'min_samples_split': 5, 'max_depth': None} \n",
      "\n",
      "SVC, Tuned Hyperparameters : {'kernel': 'rbf', 'C': 1000} \n",
      "\n",
      "XGBoost, Tuned Hyperparameters : {'min_child_weight': 1, 'max_depth': 10, 'learning_rate': 0.15} \n",
      "\n"
     ]
    }
   ],
   "source": [
    "tuned_models = parameter_search(model_params, X_train, y_train)"
   ]
  },
  {
   "cell_type": "code",
   "execution_count": 64,
   "metadata": {
    "execution": {
     "iopub.execute_input": "2022-07-18T20:48:23.879716Z",
     "iopub.status.busy": "2022-07-18T20:48:23.879052Z",
     "iopub.status.idle": "2022-07-18T20:48:24.233691Z",
     "shell.execute_reply": "2022-07-18T20:48:24.232423Z",
     "shell.execute_reply.started": "2022-07-18T20:48:23.879673Z"
    }
   },
   "outputs": [],
   "source": [
    "eval_df_tuned = []\n",
    "\n",
    "# Iterate through the tuned models \n",
    "for name, model in tuned_models.items():\n",
    "    res_df, cf_matrix = create_result_df(name, model, X_test, y_test)\n",
    "    eval_df_tuned.append(res_df)\n",
    "    \n",
    "    del res_df, cf_matrix, model"
   ]
  },
  {
   "cell_type": "code",
   "execution_count": 65,
   "metadata": {
    "execution": {
     "iopub.execute_input": "2022-07-18T20:48:24.238786Z",
     "iopub.status.busy": "2022-07-18T20:48:24.238379Z",
     "iopub.status.idle": "2022-07-18T20:48:24.255294Z",
     "shell.execute_reply": "2022-07-18T20:48:24.253889Z",
     "shell.execute_reply.started": "2022-07-18T20:48:24.238753Z"
    }
   },
   "outputs": [
    {
     "data": {
      "text/html": [
       "<div>\n",
       "<style scoped>\n",
       "    .dataframe tbody tr th:only-of-type {\n",
       "        vertical-align: middle;\n",
       "    }\n",
       "\n",
       "    .dataframe tbody tr th {\n",
       "        vertical-align: top;\n",
       "    }\n",
       "\n",
       "    .dataframe thead th {\n",
       "        text-align: right;\n",
       "    }\n",
       "</style>\n",
       "<table border=\"1\" class=\"dataframe\">\n",
       "  <thead>\n",
       "    <tr style=\"text-align: right;\">\n",
       "      <th></th>\n",
       "      <th>Test_Accuracy_tuned</th>\n",
       "      <th>F1_Score_tuned</th>\n",
       "      <th>ROC_AUC_tuned</th>\n",
       "    </tr>\n",
       "    <tr>\n",
       "      <th>Model_Name</th>\n",
       "      <th></th>\n",
       "      <th></th>\n",
       "      <th></th>\n",
       "    </tr>\n",
       "  </thead>\n",
       "  <tbody>\n",
       "    <tr>\n",
       "      <th>Logistic Regression</th>\n",
       "      <td>0.730290</td>\n",
       "      <td>0.703179</td>\n",
       "      <td>0.791248</td>\n",
       "    </tr>\n",
       "    <tr>\n",
       "      <th>Decision Tree</th>\n",
       "      <td>0.925311</td>\n",
       "      <td>0.924919</td>\n",
       "      <td>0.980680</td>\n",
       "    </tr>\n",
       "    <tr>\n",
       "      <th>KNN</th>\n",
       "      <td>0.871369</td>\n",
       "      <td>0.870433</td>\n",
       "      <td>0.871704</td>\n",
       "    </tr>\n",
       "    <tr>\n",
       "      <th>Random Forest</th>\n",
       "      <td>0.887967</td>\n",
       "      <td>0.885451</td>\n",
       "      <td>0.979740</td>\n",
       "    </tr>\n",
       "    <tr>\n",
       "      <th>SVC</th>\n",
       "      <td>0.792531</td>\n",
       "      <td>0.789035</td>\n",
       "      <td>0.913648</td>\n",
       "    </tr>\n",
       "    <tr>\n",
       "      <th>XGBoost</th>\n",
       "      <td>0.917012</td>\n",
       "      <td>0.916268</td>\n",
       "      <td>0.989742</td>\n",
       "    </tr>\n",
       "  </tbody>\n",
       "</table>\n",
       "</div>"
      ],
      "text/plain": [
       "                     Test_Accuracy_tuned  F1_Score_tuned  ROC_AUC_tuned\n",
       "Model_Name                                                             \n",
       "Logistic Regression             0.730290        0.703179       0.791248\n",
       "Decision Tree                   0.925311        0.924919       0.980680\n",
       "KNN                             0.871369        0.870433       0.871704\n",
       "Random Forest                   0.887967        0.885451       0.979740\n",
       "SVC                             0.792531        0.789035       0.913648\n",
       "XGBoost                         0.917012        0.916268       0.989742"
      ]
     },
     "execution_count": 65,
     "metadata": {},
     "output_type": "execute_result"
    }
   ],
   "source": [
    "eval_df_tuned = pd.concat(eval_df_tuned)\n",
    "eval_df_tuned.set_index('Model_Name', inplace=True)\n",
    "eval_df_tuned.columns = eval_df_tuned.columns + '_tuned'\n",
    "\n",
    "eval_df_tuned"
   ]
  },
  {
   "cell_type": "markdown",
   "metadata": {},
   "source": [
    "### Check improvement of models when tuned (Imbalanced data)"
   ]
  },
  {
   "cell_type": "code",
   "execution_count": 66,
   "metadata": {
    "execution": {
     "iopub.execute_input": "2022-07-18T20:48:24.256916Z",
     "iopub.status.busy": "2022-07-18T20:48:24.256608Z",
     "iopub.status.idle": "2022-07-18T20:48:24.265576Z",
     "shell.execute_reply": "2022-07-18T20:48:24.264688Z",
     "shell.execute_reply.started": "2022-07-18T20:48:24.256888Z"
    }
   },
   "outputs": [],
   "source": [
    "def tuned_model_result_diff(metric, eval_df1, eval_df2, title):\n",
    "    '''\n",
    "    function to compare performances of machine learning models when tuned and untuned\n",
    "    \n",
    "    args:\n",
    "        metric: Metric result to compare\n",
    "        \n",
    "        eval_df1: evaluation dataframe of untuned model\n",
    "        \n",
    "        eval_df2: evaluation datafame of tuned model\n",
    "        \n",
    "        title: title of barplot\n",
    "    '''\n",
    "    \n",
    "    tmp = pd.concat([eval_df1[metric], eval_df2['{}_tuned'.format(metric)] ], axis=1).reset_index()\n",
    "    display(tmp)\n",
    "    fig, ax = plt.subplots(figsize=(14,7))\n",
    "    tmp.plot(x='Model_Name', kind='bar', ax=ax)\n",
    "\n",
    "    plt.ylim(0.5, 1)\n",
    "    plt.ylabel('score')\n",
    "    plt.title(title)\n",
    "    plt.xticks(rotation=0)\n",
    "    plt.legend(loc='upper left')\n",
    "    plt.savefig('{}'.format(title), dpi=300)\n",
    "    plt.show()"
   ]
  },
  {
   "cell_type": "code",
   "execution_count": 67,
   "metadata": {
    "execution": {
     "iopub.execute_input": "2022-07-18T20:48:24.267515Z",
     "iopub.status.busy": "2022-07-18T20:48:24.266934Z",
     "iopub.status.idle": "2022-07-18T20:48:25.015706Z",
     "shell.execute_reply": "2022-07-18T20:48:25.014333Z",
     "shell.execute_reply.started": "2022-07-18T20:48:24.267483Z"
    }
   },
   "outputs": [
    {
     "data": {
      "text/html": [
       "<div>\n",
       "<style scoped>\n",
       "    .dataframe tbody tr th:only-of-type {\n",
       "        vertical-align: middle;\n",
       "    }\n",
       "\n",
       "    .dataframe tbody tr th {\n",
       "        vertical-align: top;\n",
       "    }\n",
       "\n",
       "    .dataframe thead th {\n",
       "        text-align: right;\n",
       "    }\n",
       "</style>\n",
       "<table border=\"1\" class=\"dataframe\">\n",
       "  <thead>\n",
       "    <tr style=\"text-align: right;\">\n",
       "      <th></th>\n",
       "      <th>Model_Name</th>\n",
       "      <th>F1_Score</th>\n",
       "      <th>F1_Score_tuned</th>\n",
       "    </tr>\n",
       "  </thead>\n",
       "  <tbody>\n",
       "    <tr>\n",
       "      <th>0</th>\n",
       "      <td>Logistic Regression</td>\n",
       "      <td>0.690257</td>\n",
       "      <td>0.703179</td>\n",
       "    </tr>\n",
       "    <tr>\n",
       "      <th>1</th>\n",
       "      <td>Decision Tree</td>\n",
       "      <td>0.924919</td>\n",
       "      <td>0.924919</td>\n",
       "    </tr>\n",
       "    <tr>\n",
       "      <th>2</th>\n",
       "      <td>KNN</td>\n",
       "      <td>0.751760</td>\n",
       "      <td>0.870433</td>\n",
       "    </tr>\n",
       "    <tr>\n",
       "      <th>3</th>\n",
       "      <td>Random Forest</td>\n",
       "      <td>0.907475</td>\n",
       "      <td>0.885451</td>\n",
       "    </tr>\n",
       "    <tr>\n",
       "      <th>4</th>\n",
       "      <td>SVC</td>\n",
       "      <td>0.595238</td>\n",
       "      <td>0.789035</td>\n",
       "    </tr>\n",
       "    <tr>\n",
       "      <th>5</th>\n",
       "      <td>XGBoost</td>\n",
       "      <td>0.916268</td>\n",
       "      <td>0.916268</td>\n",
       "    </tr>\n",
       "  </tbody>\n",
       "</table>\n",
       "</div>"
      ],
      "text/plain": [
       "            Model_Name  F1_Score  F1_Score_tuned\n",
       "0  Logistic Regression  0.690257        0.703179\n",
       "1        Decision Tree  0.924919        0.924919\n",
       "2                  KNN  0.751760        0.870433\n",
       "3        Random Forest  0.907475        0.885451\n",
       "4                  SVC  0.595238        0.789035\n",
       "5              XGBoost  0.916268        0.916268"
      ]
     },
     "metadata": {},
     "output_type": "display_data"
    },
    {
     "data": {
      "image/png": "[encoded data removed]",
      "text/plain": [
       "<Figure size 1008x504 with 1 Axes>"
      ]
     },
     "metadata": {
      "needs_background": "light"
     },
     "output_type": "display_data"
    }
   ],
   "source": [
    "tuned_model_result_diff('F1_Score', eval_df, eval_df_tuned, 'F1_Score comparison (Imbalanced Data)')"
   ]
  },
  {
   "cell_type": "markdown",
   "metadata": {},
   "source": [
    "The model that improves the most after hyperparameter tuning is the SVC. <p>\n",
    "Tuning the hyperparameters of tree models such as Decision Tree, Random Forest and XGBoost does not yield a significant improvement in F1 score."
   ]
  },
  {
   "cell_type": "markdown",
   "metadata": {},
   "source": [
    "# Machine Learning (Balanced Dataset)"
   ]
  },
  {
   "cell_type": "markdown",
   "metadata": {},
   "source": [
    "### To balance the classes in the dataset, RandomOverSampling method is used"
   ]
  },
  {
   "cell_type": "code",
   "execution_count": 68,
   "metadata": {
    "execution": {
     "iopub.execute_input": "2022-07-18T20:48:25.018071Z",
     "iopub.status.busy": "2022-07-18T20:48:25.017229Z",
     "iopub.status.idle": "2022-07-18T20:48:25.166156Z",
     "shell.execute_reply": "2022-07-18T20:48:25.165218Z",
     "shell.execute_reply.started": "2022-07-18T20:48:25.018036Z"
    }
   },
   "outputs": [],
   "source": [
    "from imblearn.over_sampling import RandomOverSampler"
   ]
  },
  {
   "cell_type": "code",
   "execution_count": 69,
   "metadata": {
    "execution": {
     "iopub.execute_input": "2022-07-18T20:48:25.168211Z",
     "iopub.status.busy": "2022-07-18T20:48:25.167628Z",
     "iopub.status.idle": "2022-07-18T20:48:25.172367Z",
     "shell.execute_reply": "2022-07-18T20:48:25.171561Z",
     "shell.execute_reply.started": "2022-07-18T20:48:25.168178Z"
    }
   },
   "outputs": [],
   "source": [
    "over_sampler = RandomOverSampler(random_state=0)"
   ]
  },
  {
   "cell_type": "code",
   "execution_count": 70,
   "metadata": {
    "execution": {
     "iopub.execute_input": "2022-07-18T20:48:25.174407Z",
     "iopub.status.busy": "2022-07-18T20:48:25.173770Z",
     "iopub.status.idle": "2022-07-18T20:48:25.199379Z",
     "shell.execute_reply": "2022-07-18T20:48:25.198094Z",
     "shell.execute_reply.started": "2022-07-18T20:48:25.174369Z"
    }
   },
   "outputs": [],
   "source": [
    "X_bal, y_bal = over_sampler.fit_resample(X, y)"
   ]
  },
  {
   "cell_type": "code",
   "execution_count": 71,
   "metadata": {
    "execution": {
     "iopub.execute_input": "2022-07-18T20:48:25.200977Z",
     "iopub.status.busy": "2022-07-18T20:48:25.200648Z",
     "iopub.status.idle": "2022-07-18T20:48:25.207178Z",
     "shell.execute_reply": "2022-07-18T20:48:25.206297Z",
     "shell.execute_reply.started": "2022-07-18T20:48:25.200947Z"
    }
   },
   "outputs": [
    {
     "name": "stdout",
     "output_type": "stream",
     "text": [
      "Percentage increase from original data size is 55.60%\n"
     ]
    }
   ],
   "source": [
    "perc_inc = (X_bal.shape[0] - X.shape[0]) / X.shape[0]\n",
    "\n",
    "print('Percentage increase from original data size is {:.2f}%'.format(perc_inc*100))"
   ]
  },
  {
   "cell_type": "markdown",
   "metadata": {},
   "source": [
    "### Compare Target for Balanced & Imbalanced Dataset"
   ]
  },
  {
   "cell_type": "code",
   "execution_count": 72,
   "metadata": {
    "execution": {
     "iopub.execute_input": "2022-07-18T20:48:25.209724Z",
     "iopub.status.busy": "2022-07-18T20:48:25.208749Z",
     "iopub.status.idle": "2022-07-18T20:48:26.216110Z",
     "shell.execute_reply": "2022-07-18T20:48:26.215260Z",
     "shell.execute_reply.started": "2022-07-18T20:48:25.209688Z"
    }
   },
   "outputs": [
    {
     "data": {
      "image/png": "[encoded data removed]",
      "text/plain": [
       "<Figure size 1080x576 with 2 Axes>"
      ]
     },
     "metadata": {
      "needs_background": "light"
     },
     "output_type": "display_data"
    }
   ],
   "source": [
    "# define figure and axes\n",
    "fig, axes = plt.subplots(nrows=1, ncols=2, figsize=(15,8), sharey=True, sharex=True)\n",
    "fig.suptitle(\"Student's Adaptivity To Online Learning\")\n",
    "ax1, ax = axes\n",
    "\n",
    "# Plot target for imbalanced data\n",
    "(pd.Series(y).value_counts(normalize=True) * 100).plot(kind='bar', ax=ax1)\n",
    "ax1.set_title(\"Imbalanced Data\")\n",
    "ax1.tick_params(axis=\"x\", rotation=0)\n",
    "ax1.set_ylabel('Percentage %')\n",
    "\n",
    "# Plot target for balanced data\n",
    "y_bal_inv = pd.Series( enc.inverse_transform(y_bal) )\n",
    "(y_bal_inv.value_counts(normalize=True) * 100).plot(kind='bar', ax=ax)\n",
    "ax.set_title(\"Balanced Dataset\")\n",
    "\n",
    "# display plot nicely\n",
    "ax.tick_params(axis=\"x\", rotation=0)\n",
    "plt.tight_layout()\n",
    "plt.savefig('imbal_bal.png', dpi=300)\n",
    "plt.show()"
   ]
  },
  {
   "cell_type": "markdown",
   "metadata": {},
   "source": [
    "The target feature in our data is now balanced"
   ]
  },
  {
   "cell_type": "markdown",
   "metadata": {},
   "source": [
    "### Split Data Into Train and Test Splits"
   ]
  },
  {
   "cell_type": "code",
   "execution_count": 73,
   "metadata": {
    "execution": {
     "iopub.execute_input": "2022-07-18T20:48:26.218122Z",
     "iopub.status.busy": "2022-07-18T20:48:26.217359Z",
     "iopub.status.idle": "2022-07-18T20:48:26.227132Z",
     "shell.execute_reply": "2022-07-18T20:48:26.226187Z",
     "shell.execute_reply.started": "2022-07-18T20:48:26.218089Z"
    }
   },
   "outputs": [],
   "source": [
    "X_train_bal, X_test_bal, y_train_bal, y_test_bal = train_test_split(X_bal, y_bal, test_size=0.2, stratify=y_bal, random_state=42)"
   ]
  },
  {
   "cell_type": "markdown",
   "metadata": {},
   "source": [
    "### Fit Data on Different Machine Learning Algorithm (Balanced Data)"
   ]
  },
  {
   "cell_type": "code",
   "execution_count": 74,
   "metadata": {
    "execution": {
     "iopub.execute_input": "2022-07-18T20:48:26.229719Z",
     "iopub.status.busy": "2022-07-18T20:48:26.229220Z",
     "iopub.status.idle": "2022-07-18T20:48:26.241983Z",
     "shell.execute_reply": "2022-07-18T20:48:26.240635Z",
     "shell.execute_reply.started": "2022-07-18T20:48:26.229672Z"
    }
   },
   "outputs": [],
   "source": [
    "models_bal = {\n",
    "    'Logistic Regression':  LogisticRegression(max_iter=1000),\n",
    "    'Decision Tree': DecisionTreeClassifier(random_state=42,),\n",
    "    'KNN': KNeighborsClassifier(),\n",
    "    'Random Forest': RandomForestClassifier(random_state=0, n_jobs=-1),\n",
    "    'SVC': SVC(random_state=2022, probability=True),\n",
    "    'XGBoost': XGBClassifier(random_state=20, tree_method=\"hist\", enable_categorical=True)}"
   ]
  },
  {
   "cell_type": "code",
   "execution_count": 75,
   "metadata": {
    "execution": {
     "iopub.execute_input": "2022-07-18T20:48:26.244043Z",
     "iopub.status.busy": "2022-07-18T20:48:26.243575Z",
     "iopub.status.idle": "2022-07-18T20:48:26.253993Z",
     "shell.execute_reply": "2022-07-18T20:48:26.253021Z",
     "shell.execute_reply.started": "2022-07-18T20:48:26.244002Z"
    }
   },
   "outputs": [],
   "source": [
    " cf_matrixes_bal = []"
   ]
  },
  {
   "cell_type": "code",
   "execution_count": 76,
   "metadata": {
    "execution": {
     "iopub.execute_input": "2022-07-18T20:48:26.256507Z",
     "iopub.status.busy": "2022-07-18T20:48:26.255596Z",
     "iopub.status.idle": "2022-07-18T20:48:28.455285Z",
     "shell.execute_reply": "2022-07-18T20:48:28.454364Z",
     "shell.execute_reply.started": "2022-07-18T20:48:26.256466Z"
    }
   },
   "outputs": [
    {
     "name": "stdout",
     "output_type": "stream",
     "text": [
      "Currently Training: Logistic Regression Model\n",
      "Currently Training: Decision Tree Model\n",
      "Currently Training: KNN Model\n",
      "Currently Training: Random Forest Model\n",
      "Currently Training: SVC Model\n",
      "Currently Training: XGBoost Model\n"
     ]
    }
   ],
   "source": [
    "eval_df_bal = []\n",
    "\n",
    "# Iterate through the defined models in dictionary \n",
    "for name, model in models_bal.items():\n",
    "    print('Currently Training: {} Model'.format(name))\n",
    "    model.fit(X_train_bal, y_train_bal)\n",
    "    \n",
    "    res_df, cf_matrix = create_result_df(name, model, X_test_bal, y_test_bal)\n",
    "    cf_matrixes_bal.append(cf_matrix)\n",
    "    eval_df_bal.append(res_df)\n",
    "    \n",
    "    del res_df, cf_matrix, model"
   ]
  },
  {
   "cell_type": "code",
   "execution_count": 77,
   "metadata": {
    "execution": {
     "iopub.execute_input": "2022-07-18T20:48:28.457351Z",
     "iopub.status.busy": "2022-07-18T20:48:28.456757Z",
     "iopub.status.idle": "2022-07-18T20:48:28.473737Z",
     "shell.execute_reply": "2022-07-18T20:48:28.472839Z",
     "shell.execute_reply.started": "2022-07-18T20:48:28.457299Z"
    }
   },
   "outputs": [
    {
     "data": {
      "text/html": [
       "<div>\n",
       "<style scoped>\n",
       "    .dataframe tbody tr th:only-of-type {\n",
       "        vertical-align: middle;\n",
       "    }\n",
       "\n",
       "    .dataframe tbody tr th {\n",
       "        vertical-align: top;\n",
       "    }\n",
       "\n",
       "    .dataframe thead th {\n",
       "        text-align: right;\n",
       "    }\n",
       "</style>\n",
       "<table border=\"1\" class=\"dataframe\">\n",
       "  <thead>\n",
       "    <tr style=\"text-align: right;\">\n",
       "      <th></th>\n",
       "      <th>Test_Accuracy</th>\n",
       "      <th>F1_Score</th>\n",
       "      <th>ROC_AUC</th>\n",
       "    </tr>\n",
       "    <tr>\n",
       "      <th>Model_Name</th>\n",
       "      <th></th>\n",
       "      <th></th>\n",
       "      <th></th>\n",
       "    </tr>\n",
       "  </thead>\n",
       "  <tbody>\n",
       "    <tr>\n",
       "      <th>Logistic Regression</th>\n",
       "      <td>0.706667</td>\n",
       "      <td>0.702916</td>\n",
       "      <td>0.796416</td>\n",
       "    </tr>\n",
       "    <tr>\n",
       "      <th>Decision Tree</th>\n",
       "      <td>0.920000</td>\n",
       "      <td>0.919249</td>\n",
       "      <td>0.983312</td>\n",
       "    </tr>\n",
       "    <tr>\n",
       "      <th>KNN</th>\n",
       "      <td>0.837333</td>\n",
       "      <td>0.836890</td>\n",
       "      <td>0.955787</td>\n",
       "    </tr>\n",
       "    <tr>\n",
       "      <th>Random Forest</th>\n",
       "      <td>0.922667</td>\n",
       "      <td>0.921964</td>\n",
       "      <td>0.985141</td>\n",
       "    </tr>\n",
       "    <tr>\n",
       "      <th>SVC</th>\n",
       "      <td>0.589333</td>\n",
       "      <td>0.592858</td>\n",
       "      <td>0.828971</td>\n",
       "    </tr>\n",
       "    <tr>\n",
       "      <th>XGBoost</th>\n",
       "      <td>0.925333</td>\n",
       "      <td>0.924656</td>\n",
       "      <td>0.985216</td>\n",
       "    </tr>\n",
       "  </tbody>\n",
       "</table>\n",
       "</div>"
      ],
      "text/plain": [
       "                     Test_Accuracy  F1_Score   ROC_AUC\n",
       "Model_Name                                            \n",
       "Logistic Regression       0.706667  0.702916  0.796416\n",
       "Decision Tree             0.920000  0.919249  0.983312\n",
       "KNN                       0.837333  0.836890  0.955787\n",
       "Random Forest             0.922667  0.921964  0.985141\n",
       "SVC                       0.589333  0.592858  0.828971\n",
       "XGBoost                   0.925333  0.924656  0.985216"
      ]
     },
     "execution_count": 77,
     "metadata": {},
     "output_type": "execute_result"
    }
   ],
   "source": [
    "eval_df_bal = pd.concat(eval_df_bal)\n",
    "eval_df_bal.set_index('Model_Name', inplace=True)\n",
    "eval_df_bal"
   ]
  },
  {
   "cell_type": "code",
   "execution_count": 78,
   "metadata": {
    "execution": {
     "iopub.execute_input": "2022-07-18T20:48:28.475465Z",
     "iopub.status.busy": "2022-07-18T20:48:28.474955Z",
     "iopub.status.idle": "2022-07-18T20:48:28.481471Z",
     "shell.execute_reply": "2022-07-18T20:48:28.480466Z",
     "shell.execute_reply.started": "2022-07-18T20:48:28.475433Z"
    }
   },
   "outputs": [
    {
     "name": "stdout",
     "output_type": "stream",
     "text": [
      "Using Over Sampled Balanced Dataset, the model with the best F1_score is XGBoost\n"
     ]
    }
   ],
   "source": [
    "print('Using Over Sampled Balanced Dataset, the model with the best F1_score is {}'.format(eval_df_bal['F1_Score'].idxmax()))"
   ]
  },
  {
   "cell_type": "markdown",
   "metadata": {},
   "source": [
    "### Confusion Matrix for XGBoost on Test data (Balanced Data)"
   ]
  },
  {
   "cell_type": "code",
   "execution_count": 79,
   "metadata": {
    "execution": {
     "iopub.execute_input": "2022-07-18T20:48:28.484406Z",
     "iopub.status.busy": "2022-07-18T20:48:28.482985Z",
     "iopub.status.idle": "2022-07-18T20:48:28.940714Z",
     "shell.execute_reply": "2022-07-18T20:48:28.939369Z",
     "shell.execute_reply.started": "2022-07-18T20:48:28.484367Z"
    }
   },
   "outputs": [
    {
     "data": {
      "image/png": "[encoded data removed]",
      "text/plain": [
       "<Figure size 648x504 with 1 Axes>"
      ]
     },
     "metadata": {
      "needs_background": "light"
     },
     "output_type": "display_data"
    }
   ],
   "source": [
    "plot_cf_matrix( cf_matrixes_bal[ eval_df_bal.index.to_list().index('XGBoost') ], enc.inverse_transform(models_bal['XGBoost'].classes_),\n",
    "              title='Confusion Matrix (XGBoost)')"
   ]
  },
  {
   "cell_type": "markdown",
   "metadata": {},
   "source": [
    "### Test Accuracy plot for the different models (Balanced Data)"
   ]
  },
  {
   "cell_type": "code",
   "execution_count": 80,
   "metadata": {
    "execution": {
     "iopub.execute_input": "2022-07-18T20:48:28.944553Z",
     "iopub.status.busy": "2022-07-18T20:48:28.943258Z",
     "iopub.status.idle": "2022-07-18T20:48:29.692804Z",
     "shell.execute_reply": "2022-07-18T20:48:29.691413Z",
     "shell.execute_reply.started": "2022-07-18T20:48:28.944468Z"
    }
   },
   "outputs": [
    {
     "data": {
      "image/png": "[encoded data removed]",
      "text/plain": [
       "<Figure size 864x504 with 1 Axes>"
      ]
     },
     "metadata": {
      "needs_background": "light"
     },
     "output_type": "display_data"
    }
   ],
   "source": [
    "fig, ax = plt.subplots(figsize=(12,7))\n",
    "eval_df_bal['Test_Accuracy'].sort_values().plot(kind='bar', ax=ax)\n",
    "\n",
    "plt.ylim(0.3,1.01)\n",
    "plt.ylabel('Accuracy')\n",
    "plt.title('Test accuracy score (Balanced Data)'.title())\n",
    "plt.xticks(rotation=0)\n",
    "plt.savefig('accuracy_bal_plot.png' ,dpi=300)\n",
    "plt.show()"
   ]
  },
  {
   "cell_type": "markdown",
   "metadata": {},
   "source": [
    "XGBoost classifier is able to produce the best accuracy score on the test data when using a balanced dataset"
   ]
  },
  {
   "cell_type": "markdown",
   "metadata": {},
   "source": [
    "### Analyse Feature Importance Of XGBoost Model "
   ]
  },
  {
   "cell_type": "code",
   "execution_count": 81,
   "metadata": {
    "execution": {
     "iopub.execute_input": "2022-07-18T20:48:29.695157Z",
     "iopub.status.busy": "2022-07-18T20:48:29.694660Z",
     "iopub.status.idle": "2022-07-18T20:48:29.704368Z",
     "shell.execute_reply": "2022-07-18T20:48:29.702906Z",
     "shell.execute_reply.started": "2022-07-18T20:48:29.695118Z"
    }
   },
   "outputs": [],
   "source": [
    "# Create pandas dataframe to store feature importance of model\n",
    "\n",
    "xgb_imp = pd.DataFrame(index=models_bal['XGBoost'].feature_names_in_)\n",
    "xgb_imp['Importance'] = models['XGBoost'].feature_importances_"
   ]
  },
  {
   "cell_type": "code",
   "execution_count": 82,
   "metadata": {
    "execution": {
     "iopub.execute_input": "2022-07-18T20:48:29.705712Z",
     "iopub.status.busy": "2022-07-18T20:48:29.705379Z",
     "iopub.status.idle": "2022-07-18T20:48:30.486014Z",
     "shell.execute_reply": "2022-07-18T20:48:30.484756Z",
     "shell.execute_reply.started": "2022-07-18T20:48:29.705684Z"
    }
   },
   "outputs": [
    {
     "data": {
      "image/png": "[encoded data removed]",
      "text/plain": [
       "<Figure size 936x504 with 1 Axes>"
      ]
     },
     "metadata": {
      "needs_background": "light"
     },
     "output_type": "display_data"
    }
   ],
   "source": [
    "fig, ax = plt.subplots(figsize=(13, 7))\n",
    "plt.title('Top 5 Most Importance Features Plot  (XGBoost Model)')\n",
    "\n",
    "xgb_imp.sort_values('Importance')[-5:].plot(kind='bar', ax=ax)\n",
    "plt.ylabel('score')\n",
    "plt.xticks(rotation=0)\n",
    "plt.savefig('feat_imp_xgb.png' ,dpi=300)\n",
    "plt.show()"
   ]
  },
  {
   "cell_type": "markdown",
   "metadata": {},
   "source": [
    "### Hyperparameter Tuning (Balance Data)"
   ]
  },
  {
   "cell_type": "code",
   "execution_count": 83,
   "metadata": {
    "execution": {
     "iopub.execute_input": "2022-07-18T20:48:31.456471Z",
     "iopub.status.busy": "2022-07-18T20:48:31.455947Z",
     "iopub.status.idle": "2022-07-18T20:49:46.394463Z",
     "shell.execute_reply": "2022-07-18T20:49:46.393406Z",
     "shell.execute_reply.started": "2022-07-18T20:48:31.456440Z"
    }
   },
   "outputs": [
    {
     "name": "stdout",
     "output_type": "stream",
     "text": [
      "Logistic Regression, Tuned Hyperparameters : {'max_iter': 1000, 'C': 10} \n",
      "\n",
      "Decision Tree, Tuned Hyperparameters : {'min_samples_split': 2, 'max_depth': 15} \n",
      "\n",
      "KNN, Tuned Hyperparameters : {'n_neighbors': 1} \n",
      "\n",
      "Random Forest, Tuned Hyperparameters : {'n_estimators': 10, 'min_samples_split': 3, 'max_depth': 12} \n",
      "\n",
      "SVC, Tuned Hyperparameters : {'kernel': 'rbf', 'C': 1000} \n",
      "\n",
      "XGBoost, Tuned Hyperparameters : {'min_child_weight': 3, 'max_depth': 15, 'learning_rate': 0.3} \n",
      "\n"
     ]
    }
   ],
   "source": [
    "# using the same function created for imbalanced data \n",
    "tuned_models_bal = parameter_search(model_params, X_train_bal, y_train_bal)"
   ]
  },
  {
   "cell_type": "code",
   "execution_count": 84,
   "metadata": {
    "execution": {
     "iopub.execute_input": "2022-07-18T20:49:46.396823Z",
     "iopub.status.busy": "2022-07-18T20:49:46.396037Z",
     "iopub.status.idle": "2022-07-18T20:49:46.772411Z",
     "shell.execute_reply": "2022-07-18T20:49:46.771470Z",
     "shell.execute_reply.started": "2022-07-18T20:49:46.396780Z"
    }
   },
   "outputs": [],
   "source": [
    "eval_df_bal_tuned = []\n",
    "\n",
    "# Iterate through the tuned models \n",
    "for name, model in tuned_models_bal.items():\n",
    "    res_df, cf_matrix = create_result_df(name, model, X_test_bal, y_test_bal)\n",
    "    eval_df_bal_tuned.append(res_df)\n",
    "    \n",
    "    del res_df, cf_matrix, model"
   ]
  },
  {
   "cell_type": "code",
   "execution_count": 85,
   "metadata": {
    "execution": {
     "iopub.execute_input": "2022-07-18T20:49:46.775023Z",
     "iopub.status.busy": "2022-07-18T20:49:46.774226Z",
     "iopub.status.idle": "2022-07-18T20:49:46.793622Z",
     "shell.execute_reply": "2022-07-18T20:49:46.792261Z",
     "shell.execute_reply.started": "2022-07-18T20:49:46.774973Z"
    }
   },
   "outputs": [
    {
     "data": {
      "text/html": [
       "<div>\n",
       "<style scoped>\n",
       "    .dataframe tbody tr th:only-of-type {\n",
       "        vertical-align: middle;\n",
       "    }\n",
       "\n",
       "    .dataframe tbody tr th {\n",
       "        vertical-align: top;\n",
       "    }\n",
       "\n",
       "    .dataframe thead th {\n",
       "        text-align: right;\n",
       "    }\n",
       "</style>\n",
       "<table border=\"1\" class=\"dataframe\">\n",
       "  <thead>\n",
       "    <tr style=\"text-align: right;\">\n",
       "      <th></th>\n",
       "      <th>Test_Accuracy_tuned</th>\n",
       "      <th>F1_Score_tuned</th>\n",
       "      <th>ROC_AUC_tuned</th>\n",
       "    </tr>\n",
       "    <tr>\n",
       "      <th>Model_Name</th>\n",
       "      <th></th>\n",
       "      <th></th>\n",
       "      <th></th>\n",
       "    </tr>\n",
       "  </thead>\n",
       "  <tbody>\n",
       "    <tr>\n",
       "      <th>Logistic Regression</th>\n",
       "      <td>0.706667</td>\n",
       "      <td>0.702916</td>\n",
       "      <td>0.796480</td>\n",
       "    </tr>\n",
       "    <tr>\n",
       "      <th>Decision Tree</th>\n",
       "      <td>0.920000</td>\n",
       "      <td>0.919249</td>\n",
       "      <td>0.983312</td>\n",
       "    </tr>\n",
       "    <tr>\n",
       "      <th>KNN</th>\n",
       "      <td>0.866667</td>\n",
       "      <td>0.866159</td>\n",
       "      <td>0.900000</td>\n",
       "    </tr>\n",
       "    <tr>\n",
       "      <th>Random Forest</th>\n",
       "      <td>0.922667</td>\n",
       "      <td>0.921777</td>\n",
       "      <td>0.982101</td>\n",
       "    </tr>\n",
       "    <tr>\n",
       "      <th>SVC</th>\n",
       "      <td>0.802667</td>\n",
       "      <td>0.799199</td>\n",
       "      <td>0.928501</td>\n",
       "    </tr>\n",
       "    <tr>\n",
       "      <th>XGBoost</th>\n",
       "      <td>0.925333</td>\n",
       "      <td>0.924656</td>\n",
       "      <td>0.984864</td>\n",
       "    </tr>\n",
       "  </tbody>\n",
       "</table>\n",
       "</div>"
      ],
      "text/plain": [
       "                     Test_Accuracy_tuned  F1_Score_tuned  ROC_AUC_tuned\n",
       "Model_Name                                                             \n",
       "Logistic Regression             0.706667        0.702916       0.796480\n",
       "Decision Tree                   0.920000        0.919249       0.983312\n",
       "KNN                             0.866667        0.866159       0.900000\n",
       "Random Forest                   0.922667        0.921777       0.982101\n",
       "SVC                             0.802667        0.799199       0.928501\n",
       "XGBoost                         0.925333        0.924656       0.984864"
      ]
     },
     "execution_count": 85,
     "metadata": {},
     "output_type": "execute_result"
    }
   ],
   "source": [
    "eval_df_bal_tuned = pd.concat(eval_df_bal_tuned)\n",
    "eval_df_bal_tuned.set_index('Model_Name', inplace=True)\n",
    "eval_df_bal_tuned.columns = eval_df_bal_tuned.columns + '_tuned'\n",
    "\n",
    "eval_df_bal_tuned"
   ]
  },
  {
   "cell_type": "code",
   "execution_count": 86,
   "metadata": {
    "execution": {
     "iopub.execute_input": "2022-07-18T20:49:46.796580Z",
     "iopub.status.busy": "2022-07-18T20:49:46.795723Z",
     "iopub.status.idle": "2022-07-18T20:49:47.514522Z",
     "shell.execute_reply": "2022-07-18T20:49:47.513387Z",
     "shell.execute_reply.started": "2022-07-18T20:49:46.796526Z"
    }
   },
   "outputs": [
    {
     "data": {
      "text/html": [
       "<div>\n",
       "<style scoped>\n",
       "    .dataframe tbody tr th:only-of-type {\n",
       "        vertical-align: middle;\n",
       "    }\n",
       "\n",
       "    .dataframe tbody tr th {\n",
       "        vertical-align: top;\n",
       "    }\n",
       "\n",
       "    .dataframe thead th {\n",
       "        text-align: right;\n",
       "    }\n",
       "</style>\n",
       "<table border=\"1\" class=\"dataframe\">\n",
       "  <thead>\n",
       "    <tr style=\"text-align: right;\">\n",
       "      <th></th>\n",
       "      <th>Model_Name</th>\n",
       "      <th>F1_Score</th>\n",
       "      <th>F1_Score_tuned</th>\n",
       "    </tr>\n",
       "  </thead>\n",
       "  <tbody>\n",
       "    <tr>\n",
       "      <th>0</th>\n",
       "      <td>Logistic Regression</td>\n",
       "      <td>0.702916</td>\n",
       "      <td>0.702916</td>\n",
       "    </tr>\n",
       "    <tr>\n",
       "      <th>1</th>\n",
       "      <td>Decision Tree</td>\n",
       "      <td>0.919249</td>\n",
       "      <td>0.919249</td>\n",
       "    </tr>\n",
       "    <tr>\n",
       "      <th>2</th>\n",
       "      <td>KNN</td>\n",
       "      <td>0.836890</td>\n",
       "      <td>0.866159</td>\n",
       "    </tr>\n",
       "    <tr>\n",
       "      <th>3</th>\n",
       "      <td>Random Forest</td>\n",
       "      <td>0.921964</td>\n",
       "      <td>0.921777</td>\n",
       "    </tr>\n",
       "    <tr>\n",
       "      <th>4</th>\n",
       "      <td>SVC</td>\n",
       "      <td>0.592858</td>\n",
       "      <td>0.799199</td>\n",
       "    </tr>\n",
       "    <tr>\n",
       "      <th>5</th>\n",
       "      <td>XGBoost</td>\n",
       "      <td>0.924656</td>\n",
       "      <td>0.924656</td>\n",
       "    </tr>\n",
       "  </tbody>\n",
       "</table>\n",
       "</div>"
      ],
      "text/plain": [
       "            Model_Name  F1_Score  F1_Score_tuned\n",
       "0  Logistic Regression  0.702916        0.702916\n",
       "1        Decision Tree  0.919249        0.919249\n",
       "2                  KNN  0.836890        0.866159\n",
       "3        Random Forest  0.921964        0.921777\n",
       "4                  SVC  0.592858        0.799199\n",
       "5              XGBoost  0.924656        0.924656"
      ]
     },
     "metadata": {},
     "output_type": "display_data"
    },
    {
     "data": {
      "image/png": "[encoded data removed]",
      "text/plain": [
       "<Figure size 1008x504 with 1 Axes>"
      ]
     },
     "metadata": {
      "needs_background": "light"
     },
     "output_type": "display_data"
    }
   ],
   "source": [
    "tuned_model_result_diff('F1_Score', eval_df_bal, eval_df_bal_tuned, 'F1_Score comparison (Balanced Data)')"
   ]
  },
  {
   "cell_type": "markdown",
   "metadata": {},
   "source": [
    "Tuning the hyperparameters of the Logistic Regression, Decision Tree, Random Forest and XGBoost when trained on the balanced dataset results in no  improvement in F1 score. <p>\n",
    "However KNN and SVC perform better with tuned parameters."
   ]
  },
  {
   "cell_type": "markdown",
   "metadata": {},
   "source": [
    "### Cross Validation (XGBoost)"
   ]
  },
  {
   "cell_type": "code",
   "execution_count": 87,
   "metadata": {
    "execution": {
     "iopub.execute_input": "2022-07-18T20:49:47.517115Z",
     "iopub.status.busy": "2022-07-18T20:49:47.516035Z",
     "iopub.status.idle": "2022-07-18T20:49:47.521330Z",
     "shell.execute_reply": "2022-07-18T20:49:47.520471Z",
     "shell.execute_reply.started": "2022-07-18T20:49:47.517040Z"
    }
   },
   "outputs": [],
   "source": [
    "fold = KFold(n_splits=5, shuffle=True, random_state=0) "
   ]
  },
  {
   "cell_type": "code",
   "execution_count": 88,
   "metadata": {
    "execution": {
     "iopub.execute_input": "2022-07-18T20:49:47.523484Z",
     "iopub.status.busy": "2022-07-18T20:49:47.522423Z",
     "iopub.status.idle": "2022-07-18T20:49:54.263795Z",
     "shell.execute_reply": "2022-07-18T20:49:54.262832Z",
     "shell.execute_reply.started": "2022-07-18T20:49:47.523452Z"
    }
   },
   "outputs": [
    {
     "name": "stdout",
     "output_type": "stream",
     "text": [
      "1 fold\n",
      "[0]\tvalidation_0-auc:0.91103\n",
      "[100]\tvalidation_0-auc:0.98868\n",
      "[134]\tvalidation_0-auc:0.98863\n",
      "2 fold\n",
      "[0]\tvalidation_0-auc:0.91727\n",
      "[100]\tvalidation_0-auc:0.97948\n",
      "[138]\tvalidation_0-auc:0.97778\n",
      "3 fold\n",
      "[0]\tvalidation_0-auc:0.91594\n",
      "[100]\tvalidation_0-auc:0.98090\n",
      "[200]\tvalidation_0-auc:0.98189\n",
      "[208]\tvalidation_0-auc:0.98195\n",
      "4 fold\n",
      "[0]\tvalidation_0-auc:0.89369\n",
      "[100]\tvalidation_0-auc:0.97637\n",
      "[200]\tvalidation_0-auc:0.97784\n",
      "[259]\tvalidation_0-auc:0.97682\n",
      "5 fold\n",
      "[0]\tvalidation_0-auc:0.92459\n",
      "[100]\tvalidation_0-auc:0.97967\n",
      "[200]\tvalidation_0-auc:0.98085\n",
      "[228]\tvalidation_0-auc:0.98113\n"
     ]
    }
   ],
   "source": [
    "n = 1\n",
    "test_preds_cv = []\n",
    "for train_index, test_index in fold.split(X_train_bal, y_train_bal):\n",
    "    print('{} fold'.format(n))\n",
    "    train_set, val_set = X_train_bal.iloc[train_index], X_train_bal.iloc[test_index]\n",
    "    y_train_set, y_val_set = y_train_bal.iloc[train_index], y_train_bal.iloc[test_index] \n",
    "    \n",
    "    model = XGBClassifier(random_state=20, n_estimators=1000, tree_method=\"hist\", \n",
    "                          enable_categorical=True,  early_stopping_rounds=50, eval_metric = 'auc')\n",
    "    model.fit(train_set, y_train_set, eval_set=[(val_set, y_val_set)], verbose=100)\n",
    "    \n",
    "    test_preds=model.predict_proba(X_test_bal)    \n",
    "    test_preds_cv.append(test_preds)\n",
    "    n+=1\n",
    "    del model, test_preds"
   ]
  },
  {
   "cell_type": "code",
   "execution_count": 89,
   "metadata": {
    "execution": {
     "iopub.execute_input": "2022-07-18T20:49:54.266145Z",
     "iopub.status.busy": "2022-07-18T20:49:54.265198Z",
     "iopub.status.idle": "2022-07-18T20:49:54.273612Z",
     "shell.execute_reply": "2022-07-18T20:49:54.272692Z",
     "shell.execute_reply.started": "2022-07-18T20:49:54.266104Z"
    }
   },
   "outputs": [
    {
     "data": {
      "text/plain": [
       "array([[9.8661196e-01, 7.5378371e-03, 5.8502262e-03],\n",
       "       [9.6426673e-05, 9.7714454e-01, 2.2759089e-02],\n",
       "       [2.4776804e-04, 9.4157922e-01, 5.8172952e-02],\n",
       "       ...,\n",
       "       [3.4027621e-03, 3.4463027e-01, 6.5196699e-01],\n",
       "       [9.9585140e-01, 6.7001616e-05, 4.0816064e-03],\n",
       "       [6.6276789e-01, 2.2671867e-02, 3.1456026e-01]], dtype=float32)"
      ]
     },
     "execution_count": 89,
     "metadata": {},
     "output_type": "execute_result"
    }
   ],
   "source": [
    "# Aggregate the preditions by taking the average\n",
    "np.mean(test_preds_cv, axis=0)"
   ]
  },
  {
   "cell_type": "code",
   "execution_count": 90,
   "metadata": {
    "execution": {
     "iopub.execute_input": "2022-07-18T20:49:54.278451Z",
     "iopub.status.busy": "2022-07-18T20:49:54.274728Z",
     "iopub.status.idle": "2022-07-18T20:49:54.284741Z",
     "shell.execute_reply": "2022-07-18T20:49:54.283781Z",
     "shell.execute_reply.started": "2022-07-18T20:49:54.278401Z"
    }
   },
   "outputs": [],
   "source": [
    "# Determine the predicted class\n",
    "y_pred_cv = np.argmax( np.mean(test_preds_cv, axis=0),  axis=1)"
   ]
  },
  {
   "cell_type": "code",
   "execution_count": 91,
   "metadata": {
    "execution": {
     "iopub.execute_input": "2022-07-18T20:49:54.286519Z",
     "iopub.status.busy": "2022-07-18T20:49:54.286196Z",
     "iopub.status.idle": "2022-07-18T20:49:54.305505Z",
     "shell.execute_reply": "2022-07-18T20:49:54.304393Z",
     "shell.execute_reply.started": "2022-07-18T20:49:54.286490Z"
    }
   },
   "outputs": [],
   "source": [
    "eval_df_bal_cv = pd.DataFrame()\n",
    "eval_df_bal_cv['Model_Name'] = [ 'XGBoost' ]\n",
    "eval_df_bal_cv['Test_Accuracy'] = [ accuracy_score(y_test_bal, y_pred_cv) ]\n",
    "eval_df_bal_cv['F1_Score'] = [ f1_score(y_test_bal, y_pred_cv, average='weighted') ]\n",
    "eval_df_bal_cv['ROC_AUC'] = [ roc_auc_score(y_test_bal, np.mean(test_preds_cv, axis=0), multi_class='ovr') ]\n"
   ]
  },
  {
   "cell_type": "code",
   "execution_count": 92,
   "metadata": {
    "execution": {
     "iopub.execute_input": "2022-07-18T20:49:54.308177Z",
     "iopub.status.busy": "2022-07-18T20:49:54.307260Z",
     "iopub.status.idle": "2022-07-18T20:49:54.321725Z",
     "shell.execute_reply": "2022-07-18T20:49:54.320382Z",
     "shell.execute_reply.started": "2022-07-18T20:49:54.308095Z"
    }
   },
   "outputs": [
    {
     "data": {
      "text/html": [
       "<div>\n",
       "<style scoped>\n",
       "    .dataframe tbody tr th:only-of-type {\n",
       "        vertical-align: middle;\n",
       "    }\n",
       "\n",
       "    .dataframe tbody tr th {\n",
       "        vertical-align: top;\n",
       "    }\n",
       "\n",
       "    .dataframe thead th {\n",
       "        text-align: right;\n",
       "    }\n",
       "</style>\n",
       "<table border=\"1\" class=\"dataframe\">\n",
       "  <thead>\n",
       "    <tr style=\"text-align: right;\">\n",
       "      <th></th>\n",
       "      <th>Model_Name</th>\n",
       "      <th>Test_Accuracy</th>\n",
       "      <th>F1_Score</th>\n",
       "      <th>ROC_AUC</th>\n",
       "    </tr>\n",
       "  </thead>\n",
       "  <tbody>\n",
       "    <tr>\n",
       "      <th>0</th>\n",
       "      <td>XGBoost</td>\n",
       "      <td>0.925333</td>\n",
       "      <td>0.924656</td>\n",
       "      <td>0.985067</td>\n",
       "    </tr>\n",
       "  </tbody>\n",
       "</table>\n",
       "</div>"
      ],
      "text/plain": [
       "  Model_Name  Test_Accuracy  F1_Score   ROC_AUC\n",
       "0    XGBoost       0.925333  0.924656  0.985067"
      ]
     },
     "execution_count": 92,
     "metadata": {},
     "output_type": "execute_result"
    }
   ],
   "source": [
    "# new metrics of XGBoost after cross validation\n",
    "eval_df_bal_cv"
   ]
  },
  {
   "cell_type": "code",
   "execution_count": 93,
   "metadata": {
    "execution": {
     "iopub.execute_input": "2022-07-18T20:49:54.324003Z",
     "iopub.status.busy": "2022-07-18T20:49:54.323210Z",
     "iopub.status.idle": "2022-07-18T20:49:54.333881Z",
     "shell.execute_reply": "2022-07-18T20:49:54.332646Z",
     "shell.execute_reply.started": "2022-07-18T20:49:54.323966Z"
    }
   },
   "outputs": [
    {
     "data": {
      "text/plain": [
       "Test_Accuracy    0.925333\n",
       "F1_Score         0.924656\n",
       "ROC_AUC          0.985216\n",
       "Name: XGBoost, dtype: float64"
      ]
     },
     "execution_count": 93,
     "metadata": {},
     "output_type": "execute_result"
    }
   ],
   "source": [
    "# recalling the accuracy of XGBoost on Balanced data \n",
    "eval_df_bal.loc['XGBoost']"
   ]
  },
  {
   "cell_type": "markdown",
   "metadata": {},
   "source": [
    "The XGBoost classifier with using a 5 KFold Cross validation technique yields an F1 Score of 0.925.<p>\n",
    "However training XGBooost Classifier with the whole training dataset yields an F1_Score of 0.925 also. <p>\n",
    "We can conclude that KFold cross validation is not very beneficial for our dataset becuase the F1_score metric on the test dataset does not improve."
   ]
  },
  {
   "cell_type": "markdown",
   "metadata": {},
   "source": [
    "# Compare Performance of Models on Balanced and Imbalanced Data"
   ]
  },
  {
   "cell_type": "markdown",
   "metadata": {},
   "source": [
    "To compare the perfomance of models, the metric result of the each model on the imbalanced <b>(I)</b> data is subtracted from the result on the balanced data <b>(B)</b> \n",
    "###  Balanced - Imbalanced   ( B - I )"
   ]
  },
  {
   "cell_type": "code",
   "execution_count": 94,
   "metadata": {},
   "outputs": [],
   "source": [
    "compare_df = pd.DataFrame()\n",
    "compare_df['Model_Name'] = eval_df.index\n",
    "\n",
    "\n",
    "for metric in ['Test_Accuracy', 'F1_Score', 'ROC_AUC']:\n",
    "    # Calculate difference between metric results ( B-I )\n",
    "    change = eval_df_bal[metric].values - eval_df[metric].values\n",
    "    \n",
    "    # Calculate percentage change (increase or decrease) of results ( B-I )\n",
    "    new_col_name = 'perc_change_{}'.format(metric.lower())\n",
    "    compare_df[new_col_name] = (change/eval_df[metric].values) * 100\n",
    "    \n",
    "    # Create column that shows the sentiment in the difference of results ( B-I )  \n",
    "    compare_df['{}_change_sentiment'.format(metric.lower())] = compare_df[new_col_name].apply(lambda x: 'Positive' if x >0 else 'Negative')"
   ]
  },
  {
   "cell_type": "code",
   "execution_count": 95,
   "metadata": {},
   "outputs": [
    {
     "data": {
      "text/html": [
       "<div>\n",
       "<style scoped>\n",
       "    .dataframe tbody tr th:only-of-type {\n",
       "        vertical-align: middle;\n",
       "    }\n",
       "\n",
       "    .dataframe tbody tr th {\n",
       "        vertical-align: top;\n",
       "    }\n",
       "\n",
       "    .dataframe thead th {\n",
       "        text-align: right;\n",
       "    }\n",
       "</style>\n",
       "<table border=\"1\" class=\"dataframe\">\n",
       "  <thead>\n",
       "    <tr style=\"text-align: right;\">\n",
       "      <th></th>\n",
       "      <th>Model_Name</th>\n",
       "      <th>perc_change_test_accuracy</th>\n",
       "      <th>test_accuracy_change_sentiment</th>\n",
       "      <th>perc_change_f1_score</th>\n",
       "      <th>f1_score_change_sentiment</th>\n",
       "      <th>perc_change_roc_auc</th>\n",
       "      <th>roc_auc_change_sentiment</th>\n",
       "    </tr>\n",
       "  </thead>\n",
       "  <tbody>\n",
       "    <tr>\n",
       "      <th>0</th>\n",
       "      <td>Logistic Regression</td>\n",
       "      <td>-2.122605</td>\n",
       "      <td>Negative</td>\n",
       "      <td>1.834040</td>\n",
       "      <td>Positive</td>\n",
       "      <td>0.881785</td>\n",
       "      <td>Positive</td>\n",
       "    </tr>\n",
       "    <tr>\n",
       "      <th>1</th>\n",
       "      <td>Decision Tree</td>\n",
       "      <td>-0.573991</td>\n",
       "      <td>Negative</td>\n",
       "      <td>-0.613123</td>\n",
       "      <td>Negative</td>\n",
       "      <td>0.268373</td>\n",
       "      <td>Positive</td>\n",
       "    </tr>\n",
       "    <tr>\n",
       "      <th>2</th>\n",
       "      <td>KNN</td>\n",
       "      <td>10.877656</td>\n",
       "      <td>Positive</td>\n",
       "      <td>11.324090</td>\n",
       "      <td>Positive</td>\n",
       "      <td>3.083837</td>\n",
       "      <td>Positive</td>\n",
       "    </tr>\n",
       "    <tr>\n",
       "      <th>3</th>\n",
       "      <td>Random Forest</td>\n",
       "      <td>1.535464</td>\n",
       "      <td>Positive</td>\n",
       "      <td>1.596580</td>\n",
       "      <td>Positive</td>\n",
       "      <td>-0.087880</td>\n",
       "      <td>Negative</td>\n",
       "    </tr>\n",
       "    <tr>\n",
       "      <th>4</th>\n",
       "      <td>SVC</td>\n",
       "      <td>-8.368172</td>\n",
       "      <td>Negative</td>\n",
       "      <td>-0.399856</td>\n",
       "      <td>Negative</td>\n",
       "      <td>-0.909345</td>\n",
       "      <td>Negative</td>\n",
       "    </tr>\n",
       "    <tr>\n",
       "      <th>5</th>\n",
       "      <td>XGBoost</td>\n",
       "      <td>0.907391</td>\n",
       "      <td>Positive</td>\n",
       "      <td>0.915484</td>\n",
       "      <td>Positive</td>\n",
       "      <td>-0.272349</td>\n",
       "      <td>Negative</td>\n",
       "    </tr>\n",
       "  </tbody>\n",
       "</table>\n",
       "</div>"
      ],
      "text/plain": [
       "            Model_Name  perc_change_test_accuracy  \\\n",
       "0  Logistic Regression                  -2.122605   \n",
       "1        Decision Tree                  -0.573991   \n",
       "2                  KNN                  10.877656   \n",
       "3        Random Forest                   1.535464   \n",
       "4                  SVC                  -8.368172   \n",
       "5              XGBoost                   0.907391   \n",
       "\n",
       "  test_accuracy_change_sentiment  perc_change_f1_score  \\\n",
       "0                       Negative              1.834040   \n",
       "1                       Negative             -0.613123   \n",
       "2                       Positive             11.324090   \n",
       "3                       Positive              1.596580   \n",
       "4                       Negative             -0.399856   \n",
       "5                       Positive              0.915484   \n",
       "\n",
       "  f1_score_change_sentiment  perc_change_roc_auc roc_auc_change_sentiment  \n",
       "0                  Positive             0.881785                 Positive  \n",
       "1                  Negative             0.268373                 Positive  \n",
       "2                  Positive             3.083837                 Positive  \n",
       "3                  Positive            -0.087880                 Negative  \n",
       "4                  Negative            -0.909345                 Negative  \n",
       "5                  Positive            -0.272349                 Negative  "
      ]
     },
     "execution_count": 95,
     "metadata": {},
     "output_type": "execute_result"
    }
   ],
   "source": [
    "compare_df"
   ]
  },
  {
   "cell_type": "markdown",
   "metadata": {},
   "source": [
    "The table above shows the difference in results of models trained on Balanced and the Imbalanced Data"
   ]
  },
  {
   "cell_type": "code",
   "execution_count": 96,
   "metadata": {},
   "outputs": [
    {
     "data": {
      "text/html": [
       "<div>\n",
       "<style scoped>\n",
       "    .dataframe tbody tr th:only-of-type {\n",
       "        vertical-align: middle;\n",
       "    }\n",
       "\n",
       "    .dataframe tbody tr th {\n",
       "        vertical-align: top;\n",
       "    }\n",
       "\n",
       "    .dataframe thead th {\n",
       "        text-align: right;\n",
       "    }\n",
       "</style>\n",
       "<table border=\"1\" class=\"dataframe\">\n",
       "  <thead>\n",
       "    <tr style=\"text-align: right;\">\n",
       "      <th></th>\n",
       "      <th>Model_Name</th>\n",
       "      <th>perc_change_test_accuracy</th>\n",
       "      <th>test_accuracy_change_sentiment</th>\n",
       "      <th>perc_change_f1_score</th>\n",
       "      <th>f1_score_change_sentiment</th>\n",
       "      <th>perc_change_roc_auc</th>\n",
       "      <th>roc_auc_change_sentiment</th>\n",
       "    </tr>\n",
       "  </thead>\n",
       "  <tbody>\n",
       "    <tr>\n",
       "      <th>0</th>\n",
       "      <td>Logistic Regression</td>\n",
       "      <td>-2.122605</td>\n",
       "      <td>Negative</td>\n",
       "      <td>1.834040</td>\n",
       "      <td>Positive</td>\n",
       "      <td>0.881785</td>\n",
       "      <td>Positive</td>\n",
       "    </tr>\n",
       "    <tr>\n",
       "      <th>2</th>\n",
       "      <td>KNN</td>\n",
       "      <td>10.877656</td>\n",
       "      <td>Positive</td>\n",
       "      <td>11.324090</td>\n",
       "      <td>Positive</td>\n",
       "      <td>3.083837</td>\n",
       "      <td>Positive</td>\n",
       "    </tr>\n",
       "    <tr>\n",
       "      <th>3</th>\n",
       "      <td>Random Forest</td>\n",
       "      <td>1.535464</td>\n",
       "      <td>Positive</td>\n",
       "      <td>1.596580</td>\n",
       "      <td>Positive</td>\n",
       "      <td>-0.087880</td>\n",
       "      <td>Negative</td>\n",
       "    </tr>\n",
       "    <tr>\n",
       "      <th>5</th>\n",
       "      <td>XGBoost</td>\n",
       "      <td>0.907391</td>\n",
       "      <td>Positive</td>\n",
       "      <td>0.915484</td>\n",
       "      <td>Positive</td>\n",
       "      <td>-0.272349</td>\n",
       "      <td>Negative</td>\n",
       "    </tr>\n",
       "  </tbody>\n",
       "</table>\n",
       "</div>"
      ],
      "text/plain": [
       "            Model_Name  perc_change_test_accuracy  \\\n",
       "0  Logistic Regression                  -2.122605   \n",
       "2                  KNN                  10.877656   \n",
       "3        Random Forest                   1.535464   \n",
       "5              XGBoost                   0.907391   \n",
       "\n",
       "  test_accuracy_change_sentiment  perc_change_f1_score  \\\n",
       "0                       Negative              1.834040   \n",
       "2                       Positive             11.324090   \n",
       "3                       Positive              1.596580   \n",
       "5                       Positive              0.915484   \n",
       "\n",
       "  f1_score_change_sentiment  perc_change_roc_auc roc_auc_change_sentiment  \n",
       "0                  Positive             0.881785                 Positive  \n",
       "2                  Positive             3.083837                 Positive  \n",
       "3                  Positive            -0.087880                 Negative  \n",
       "5                  Positive            -0.272349                 Negative  "
      ]
     },
     "execution_count": 96,
     "metadata": {},
     "output_type": "execute_result"
    }
   ],
   "source": [
    "# showing the the models that only show improvment in metrics after balancing the data \n",
    "compare_df[compare_df['f1_score_change_sentiment']=='Positive']"
   ]
  },
  {
   "cell_type": "markdown",
   "metadata": {},
   "source": [
    "KNN, Random Forest, SVC and XGBoost are models that improved in performance when trained on Balanced dataset"
   ]
  },
  {
   "cell_type": "code",
   "execution_count": 97,
   "metadata": {},
   "outputs": [
    {
     "data": {
      "text/plain": [
       "'KNN'"
      ]
     },
     "execution_count": 97,
     "metadata": {},
     "output_type": "execute_result"
    }
   ],
   "source": [
    "compare_df.set_index('Model_Name', inplace=True)\n",
    "compare_df['perc_change_f1_score'].idxmax()"
   ]
  },
  {
   "cell_type": "markdown",
   "metadata": {},
   "source": [
    "KNN shows the highest improvment after balancing the data with almost 11%"
   ]
  },
  {
   "cell_type": "code",
   "execution_count": 98,
   "metadata": {},
   "outputs": [
    {
     "data": {
      "text/html": [
       "<div>\n",
       "<style scoped>\n",
       "    .dataframe tbody tr th:only-of-type {\n",
       "        vertical-align: middle;\n",
       "    }\n",
       "\n",
       "    .dataframe tbody tr th {\n",
       "        vertical-align: top;\n",
       "    }\n",
       "\n",
       "    .dataframe thead th {\n",
       "        text-align: right;\n",
       "    }\n",
       "</style>\n",
       "<table border=\"1\" class=\"dataframe\">\n",
       "  <thead>\n",
       "    <tr style=\"text-align: right;\">\n",
       "      <th></th>\n",
       "      <th>Model_Name</th>\n",
       "      <th>Imbalanced Data</th>\n",
       "      <th>Balanced Data</th>\n",
       "    </tr>\n",
       "  </thead>\n",
       "  <tbody>\n",
       "    <tr>\n",
       "      <th>0</th>\n",
       "      <td>Logistic Regression</td>\n",
       "      <td>0.690257</td>\n",
       "      <td>0.702916</td>\n",
       "    </tr>\n",
       "    <tr>\n",
       "      <th>1</th>\n",
       "      <td>Decision Tree</td>\n",
       "      <td>0.924919</td>\n",
       "      <td>0.919249</td>\n",
       "    </tr>\n",
       "    <tr>\n",
       "      <th>2</th>\n",
       "      <td>KNN</td>\n",
       "      <td>0.751760</td>\n",
       "      <td>0.836890</td>\n",
       "    </tr>\n",
       "    <tr>\n",
       "      <th>3</th>\n",
       "      <td>Random Forest</td>\n",
       "      <td>0.907475</td>\n",
       "      <td>0.921964</td>\n",
       "    </tr>\n",
       "    <tr>\n",
       "      <th>4</th>\n",
       "      <td>SVC</td>\n",
       "      <td>0.595238</td>\n",
       "      <td>0.592858</td>\n",
       "    </tr>\n",
       "    <tr>\n",
       "      <th>5</th>\n",
       "      <td>XGBoost</td>\n",
       "      <td>0.916268</td>\n",
       "      <td>0.924656</td>\n",
       "    </tr>\n",
       "  </tbody>\n",
       "</table>\n",
       "</div>"
      ],
      "text/plain": [
       "            Model_Name  Imbalanced Data  Balanced Data\n",
       "0  Logistic Regression         0.690257       0.702916\n",
       "1        Decision Tree         0.924919       0.919249\n",
       "2                  KNN         0.751760       0.836890\n",
       "3        Random Forest         0.907475       0.921964\n",
       "4                  SVC         0.595238       0.592858\n",
       "5              XGBoost         0.916268       0.924656"
      ]
     },
     "execution_count": 98,
     "metadata": {},
     "output_type": "execute_result"
    }
   ],
   "source": [
    "# DataFrame tocompare F1-score between Balanced and Imbalanced Data \n",
    "f_score_df = pd.DataFrame()\n",
    "f_score_df['Imbalanced Data'] = eval_df['F1_Score']\n",
    "f_score_df['Balanced Data'] = eval_df_bal['F1_Score']\n",
    "f_score_df.reset_index(inplace=True)\n",
    "f_score_df"
   ]
  },
  {
   "cell_type": "code",
   "execution_count": 99,
   "metadata": {},
   "outputs": [
    {
     "data": {
      "image/png": "[encoded data removed]",
      "text/plain": [
       "<Figure size 1008x576 with 1 Axes>"
      ]
     },
     "metadata": {
      "needs_background": "light"
     },
     "output_type": "display_data"
    }
   ],
   "source": [
    "# ploting the difference \n",
    "fig, ax = plt.subplots(figsize=(14,8))\n",
    "f_score_df.plot(x='Model_Name', kind='bar', ax=ax)\n",
    "\n",
    "plt.ylim(0.5, 1)\n",
    "plt.ylabel('score')\n",
    "plt.title('F1_Score')\n",
    "plt.xticks(rotation=0)\n",
    "plt.legend(loc='upper left')\n",
    "plt.savefig('f_score.png', dpi=300)"
   ]
  },
  {
   "cell_type": "markdown",
   "metadata": {},
   "source": [
    "From the plot above, f1_score improved for most models afetr balancing the data, except Decision Tree and Support Vector classifiers that shows a slight decrease .<p>"
   ]
  }
 ],
 "metadata": {
  "kernelspec": {
   "display_name": "Python 3 (ipykernel)",
   "language": "python",
   "name": "python3"
  },
  "language_info": {
   "codemirror_mode": {
    "name": "ipython",
    "version": 3
   },
   "file_extension": ".py",
   "mimetype": "text/x-python",
   "name": "python",
   "nbconvert_exporter": "python",
   "pygments_lexer": "ipython3",
   "version": "3.9.7"
  }
 },
 "nbformat": 4,
 "nbformat_minor": 4
}
